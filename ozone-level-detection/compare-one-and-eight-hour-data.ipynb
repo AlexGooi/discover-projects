{
 "cells": [
  {
   "cell_type": "markdown",
   "source": "# Exploring the ozone dataset\n\nOn a first glance, the one-hour and eight-hour data look the same. Comparing the two dataframes element-by-element tells us they are not _exactly_ the same. We investigate what the differences are exactly. It is a good exercise in slicing and datawrangling your NumPy and pandas data wrangling skills.\n\nAt the end, we can conclude 101 rows are different, of which:\n- 99 have a different target parameter `y`\n- 2 rows are present in the one-hr data and not in the eight-hour data",
   "metadata": {
    "tags": [],
    "cell_id": "00000-ced51a14-7703-406b-a808-d8662ac58d3e",
    "deepnote_cell_type": "markdown"
   }
  },
  {
   "cell_type": "code",
   "metadata": {
    "tags": [],
    "cell_id": "00000-487b23bb-fb77-4f7a-97c0-5df30d7aca91",
    "deepnote_to_be_reexecuted": false,
    "source_hash": "a454e98a",
    "execution_start": 1636795438336,
    "execution_millis": 45,
    "deepnote_cell_type": "code"
   },
   "source": "from pathlib import Path\n\nimport numpy as np\nimport pandas as pd",
   "outputs": [],
   "execution_count": 1
  },
  {
   "cell_type": "code",
   "metadata": {
    "tags": [],
    "cell_id": "00001-9f353245-da22-49f4-8980-b4f12ed49ae1",
    "deepnote_to_be_reexecuted": false,
    "source_hash": "6c1421a9",
    "execution_start": 1636795438382,
    "execution_millis": 112,
    "deepnote_cell_type": "code"
   },
   "source": "ozone = Path(\"discover-projects/ozone-level-detection\")\nfor data in [\"onehr\", \"eighthr\"]:\n    with open(ozone / \".\".join([data, \"names.txt\"]), \"r\") as f:\n        # extract column names from txt files, use Date column as index, y in last column\n        names = [line.split(\":\")[0] for line in f.readlines() if (\"continuous\" in line or \"Date\" in line)] + [\"y\"]\n        exec(f'{data} = pd.read_csv(ozone / \".\".join([\"{data}\", \"data.csv\"]), header=None, names=names[1:], index_col=0)')",
   "outputs": [
    {
     "output_type": "error",
     "ename": "FileNotFoundError",
     "evalue": "[Errno 2] No such file or directory: 'discover-projects/ozone-level-detection/onehr.names.txt'",
     "traceback": [
      "\u001b[0;31m---------------------------------------------------------------------------\u001b[0m",
      "\u001b[0;31mFileNotFoundError\u001b[0m                         Traceback (most recent call last)",
      "\u001b[0;32m<ipython-input-2-ed2f1f6f2927>\u001b[0m in \u001b[0;36m<module>\u001b[0;34m\u001b[0m\n\u001b[1;32m      1\u001b[0m \u001b[0mozone\u001b[0m \u001b[0;34m=\u001b[0m \u001b[0mPath\u001b[0m\u001b[0;34m(\u001b[0m\u001b[0;34m\"discover-projects/ozone-level-detection\"\u001b[0m\u001b[0;34m)\u001b[0m\u001b[0;34m\u001b[0m\u001b[0;34m\u001b[0m\u001b[0m\n\u001b[1;32m      2\u001b[0m \u001b[0;32mfor\u001b[0m \u001b[0mdata\u001b[0m \u001b[0;32min\u001b[0m \u001b[0;34m[\u001b[0m\u001b[0;34m\"onehr\"\u001b[0m\u001b[0;34m,\u001b[0m \u001b[0;34m\"eighthr\"\u001b[0m\u001b[0;34m]\u001b[0m\u001b[0;34m:\u001b[0m\u001b[0;34m\u001b[0m\u001b[0;34m\u001b[0m\u001b[0m\n\u001b[0;32m----> 3\u001b[0;31m     \u001b[0;32mwith\u001b[0m \u001b[0mopen\u001b[0m\u001b[0;34m(\u001b[0m\u001b[0mozone\u001b[0m \u001b[0;34m/\u001b[0m \u001b[0;34m\".\"\u001b[0m\u001b[0;34m.\u001b[0m\u001b[0mjoin\u001b[0m\u001b[0;34m(\u001b[0m\u001b[0;34m[\u001b[0m\u001b[0mdata\u001b[0m\u001b[0;34m,\u001b[0m \u001b[0;34m\"names.txt\"\u001b[0m\u001b[0;34m]\u001b[0m\u001b[0;34m)\u001b[0m\u001b[0;34m,\u001b[0m \u001b[0;34m\"r\"\u001b[0m\u001b[0;34m)\u001b[0m \u001b[0;32mas\u001b[0m \u001b[0mf\u001b[0m\u001b[0;34m:\u001b[0m\u001b[0;34m\u001b[0m\u001b[0;34m\u001b[0m\u001b[0m\n\u001b[0m\u001b[1;32m      4\u001b[0m         \u001b[0;31m# extract column names from txt files, use Date column as index, y in last column\u001b[0m\u001b[0;34m\u001b[0m\u001b[0;34m\u001b[0m\u001b[0;34m\u001b[0m\u001b[0m\n\u001b[1;32m      5\u001b[0m         \u001b[0mnames\u001b[0m \u001b[0;34m=\u001b[0m \u001b[0;34m[\u001b[0m\u001b[0mline\u001b[0m\u001b[0;34m.\u001b[0m\u001b[0msplit\u001b[0m\u001b[0;34m(\u001b[0m\u001b[0;34m\":\"\u001b[0m\u001b[0;34m)\u001b[0m\u001b[0;34m[\u001b[0m\u001b[0;36m0\u001b[0m\u001b[0;34m]\u001b[0m \u001b[0;32mfor\u001b[0m \u001b[0mline\u001b[0m \u001b[0;32min\u001b[0m \u001b[0mf\u001b[0m\u001b[0;34m.\u001b[0m\u001b[0mreadlines\u001b[0m\u001b[0;34m(\u001b[0m\u001b[0;34m)\u001b[0m \u001b[0;32mif\u001b[0m \u001b[0;34m(\u001b[0m\u001b[0;34m\"continuous\"\u001b[0m \u001b[0;32min\u001b[0m \u001b[0mline\u001b[0m \u001b[0;32mor\u001b[0m \u001b[0;34m\"Date\"\u001b[0m \u001b[0;32min\u001b[0m \u001b[0mline\u001b[0m\u001b[0;34m)\u001b[0m\u001b[0;34m]\u001b[0m \u001b[0;34m+\u001b[0m \u001b[0;34m[\u001b[0m\u001b[0;34m\"y\"\u001b[0m\u001b[0;34m]\u001b[0m\u001b[0;34m\u001b[0m\u001b[0;34m\u001b[0m\u001b[0m\n",
      "\u001b[0;31mFileNotFoundError\u001b[0m: [Errno 2] No such file or directory: 'discover-projects/ozone-level-detection/onehr.names.txt'"
     ]
    }
   ],
   "execution_count": 2
  },
  {
   "cell_type": "code",
   "metadata": {
    "tags": [],
    "cell_id": "00002-6e38e73a-6976-4972-bad5-349b0b34be19",
    "deepnote_to_be_reexecuted": true,
    "source_hash": "68d793f4",
    "execution_start": 1636795404013,
    "execution_millis": 2,
    "deepnote_cell_type": "code"
   },
   "source": "# check whether one- and eighthr data is the same\nonehr.equals(eighthr)",
   "outputs": [
    {
     "output_type": "execute_result",
     "execution_count": 3,
     "data": {
      "text/plain": "False"
     },
     "metadata": {}
    }
   ],
   "execution_count": null
  },
  {
   "cell_type": "code",
   "metadata": {
    "tags": [],
    "cell_id": "00003-0ae3351f-e772-4c07-b813-2916595f9582",
    "deepnote_to_be_reexecuted": true,
    "source_hash": "6cf871d4",
    "execution_start": 1636795404014,
    "execution_millis": 282,
    "deepnote_cell_type": "code"
   },
   "source": "# check element-wise and get index of rows that are different\ndiff_rows = (onehr.eq(eighthr).sum(axis=1) < 73)\ndiff = onehr.loc[diff_rows, :]\ndiff",
   "outputs": [
    {
     "output_type": "execute_result",
     "execution_count": 4,
     "data": {
      "application/vnd.deepnote.dataframe.v2+json": {
       "row_count": 101,
       "column_count": 73,
       "columns": [
        {
         "name": "WSR0",
         "dtype": "object",
         "stats": {
          "unique_count": 27,
          "nan_count": 0,
          "categories": [
           {
            "name": "0.4",
            "count": 11
           },
           {
            "name": "0.2",
            "count": 10
           },
           {
            "name": "25 others",
            "count": 80
           }
          ]
         }
        },
        {
         "name": "WSR1",
         "dtype": "object",
         "stats": {
          "unique_count": 24,
          "nan_count": 0,
          "categories": [
           {
            "name": "0.3",
            "count": 12
           },
           {
            "name": "0.1",
            "count": 11
           },
           {
            "name": "22 others",
            "count": 78
           }
          ]
         }
        },
        {
         "name": "WSR2",
         "dtype": "object",
         "stats": {
          "unique_count": 24,
          "nan_count": 0,
          "categories": [
           {
            "name": "0.3",
            "count": 12
           },
           {
            "name": "0.2",
            "count": 10
           },
           {
            "name": "22 others",
            "count": 79
           }
          ]
         }
        },
        {
         "name": "WSR3",
         "dtype": "object",
         "stats": {
          "unique_count": 26,
          "nan_count": 0,
          "categories": [
           {
            "name": "0.4",
            "count": 12
           },
           {
            "name": "0.3",
            "count": 9
           },
           {
            "name": "24 others",
            "count": 80
           }
          ]
         }
        },
        {
         "name": "WSR4",
         "dtype": "object",
         "stats": {
          "unique_count": 28,
          "nan_count": 0,
          "categories": [
           {
            "name": "0.4",
            "count": 13
           },
           {
            "name": "0.3",
            "count": 9
           },
           {
            "name": "26 others",
            "count": 79
           }
          ]
         }
        },
        {
         "name": "WSR5",
         "dtype": "object",
         "stats": {
          "unique_count": 26,
          "nan_count": 0,
          "categories": [
           {
            "name": "0.3",
            "count": 9
           },
           {
            "name": "0.4",
            "count": 8
           },
           {
            "name": "24 others",
            "count": 84
           }
          ]
         }
        },
        {
         "name": "WSR6",
         "dtype": "object",
         "stats": {
          "unique_count": 27,
          "nan_count": 0,
          "categories": [
           {
            "name": "0.8",
            "count": 9
           },
           {
            "name": "0.2",
            "count": 7
           },
           {
            "name": "25 others",
            "count": 85
           }
          ]
         }
        },
        {
         "name": "WSR7",
         "dtype": "object",
         "stats": {
          "unique_count": 37,
          "nan_count": 0,
          "categories": [
           {
            "name": "1.5",
            "count": 6
           },
           {
            "name": "1.3",
            "count": 6
           },
           {
            "name": "35 others",
            "count": 89
           }
          ]
         }
        },
        {
         "name": "WSR8",
         "dtype": "object",
         "stats": {
          "unique_count": 40,
          "nan_count": 0,
          "categories": [
           {
            "name": "2.1",
            "count": 7
           },
           {
            "name": "1.2",
            "count": 5
           },
           {
            "name": "38 others",
            "count": 89
           }
          ]
         }
        },
        {
         "name": "WSR9",
         "dtype": "object",
         "stats": {
          "unique_count": 37,
          "nan_count": 0,
          "categories": [
           {
            "name": "1.3",
            "count": 8
           },
           {
            "name": "1.6",
            "count": 7
           },
           {
            "name": "35 others",
            "count": 86
           }
          ]
         }
        },
        {
         "name": "WSR10",
         "dtype": "object",
         "stats": {
          "unique_count": 39,
          "nan_count": 0,
          "categories": [
           {
            "name": "2.1",
            "count": 7
           },
           {
            "name": "1.4",
            "count": 6
           },
           {
            "name": "37 others",
            "count": 88
           }
          ]
         }
        },
        {
         "name": "WSR11",
         "dtype": "object",
         "stats": {
          "unique_count": 36,
          "nan_count": 0,
          "categories": [
           {
            "name": "2.1",
            "count": 7
           },
           {
            "name": "1.6",
            "count": 5
           },
           {
            "name": "34 others",
            "count": 89
           }
          ]
         }
        },
        {
         "name": "WSR12",
         "dtype": "object",
         "stats": {
          "unique_count": 40,
          "nan_count": 0,
          "categories": [
           {
            "name": "2.2",
            "count": 6
           },
           {
            "name": "1.6",
            "count": 6
           },
           {
            "name": "38 others",
            "count": 89
           }
          ]
         }
        },
        {
         "name": "WSR13",
         "dtype": "object",
         "stats": {
          "unique_count": 43,
          "nan_count": 0,
          "categories": [
           {
            "name": "1.3",
            "count": 7
           },
           {
            "name": "3",
            "count": 6
           },
           {
            "name": "41 others",
            "count": 88
           }
          ]
         }
        },
        {
         "name": "WSR14",
         "dtype": "object",
         "stats": {
          "unique_count": 40,
          "nan_count": 0,
          "categories": [
           {
            "name": "3",
            "count": 7
           },
           {
            "name": "1.7",
            "count": 7
           },
           {
            "name": "38 others",
            "count": 87
           }
          ]
         }
        },
        {
         "name": "WSR15",
         "dtype": "object",
         "stats": {
          "unique_count": 41,
          "nan_count": 0,
          "categories": [
           {
            "name": "2.5",
            "count": 7
           },
           {
            "name": "3.1",
            "count": 5
           },
           {
            "name": "39 others",
            "count": 89
           }
          ]
         }
        },
        {
         "name": "WSR16",
         "dtype": "object",
         "stats": {
          "unique_count": 46,
          "nan_count": 0,
          "categories": [
           {
            "name": "3",
            "count": 6
           },
           {
            "name": "3.1",
            "count": 5
           },
           {
            "name": "44 others",
            "count": 90
           }
          ]
         }
        },
        {
         "name": "WSR17",
         "dtype": "object",
         "stats": {
          "unique_count": 42,
          "nan_count": 0,
          "categories": [
           {
            "name": "1.9",
            "count": 6
           },
           {
            "name": "3.4",
            "count": 6
           },
           {
            "name": "40 others",
            "count": 89
           }
          ]
         }
        },
        {
         "name": "WSR18",
         "dtype": "object",
         "stats": {
          "unique_count": 39,
          "nan_count": 0,
          "categories": [
           {
            "name": "2.2",
            "count": 8
           },
           {
            "name": "2",
            "count": 6
           },
           {
            "name": "37 others",
            "count": 87
           }
          ]
         }
        },
        {
         "name": "WSR19",
         "dtype": "object",
         "stats": {
          "unique_count": 38,
          "nan_count": 0,
          "categories": [
           {
            "name": "1.9",
            "count": 8
           },
           {
            "name": "2.4",
            "count": 6
           },
           {
            "name": "36 others",
            "count": 87
           }
          ]
         }
        },
        {
         "name": "WSR20",
         "dtype": "object",
         "stats": {
          "unique_count": 35,
          "nan_count": 0,
          "categories": [
           {
            "name": "1.7",
            "count": 12
           },
           {
            "name": "2.1",
            "count": 6
           },
           {
            "name": "33 others",
            "count": 83
           }
          ]
         }
        },
        {
         "name": "WSR21",
         "dtype": "object",
         "stats": {
          "unique_count": 32,
          "nan_count": 0,
          "categories": [
           {
            "name": "1.7",
            "count": 11
           },
           {
            "name": "1.1",
            "count": 10
           },
           {
            "name": "30 others",
            "count": 80
           }
          ]
         }
        },
        {
         "name": "WSR22",
         "dtype": "object",
         "stats": {
          "unique_count": 30,
          "nan_count": 0,
          "categories": [
           {
            "name": "1.7",
            "count": 12
           },
           {
            "name": "1.2",
            "count": 10
           },
           {
            "name": "28 others",
            "count": 79
           }
          ]
         }
        },
        {
         "name": "WSR23",
         "dtype": "object",
         "stats": {
          "unique_count": 29,
          "nan_count": 0,
          "categories": [
           {
            "name": "1.1",
            "count": 9
           },
           {
            "name": "0.8",
            "count": 8
           },
           {
            "name": "27 others",
            "count": 84
           }
          ]
         }
        },
        {
         "name": "WSR_PK",
         "dtype": "object",
         "stats": {
          "unique_count": 34,
          "nan_count": 0,
          "categories": [
           {
            "name": "3.4",
            "count": 8
           },
           {
            "name": "3.7",
            "count": 7
           },
           {
            "name": "32 others",
            "count": 86
           }
          ]
         }
        },
        {
         "name": "WSR_AV",
         "dtype": "object",
         "stats": {
          "unique_count": 26,
          "nan_count": 0,
          "categories": [
           {
            "name": "1.6",
            "count": 13
           },
           {
            "name": "1.5",
            "count": 10
           },
           {
            "name": "24 others",
            "count": 78
           }
          ]
         }
        },
        {
         "name": "T0",
         "dtype": "object",
         "stats": {
          "unique_count": 74,
          "nan_count": 0,
          "categories": [
           {
            "name": "?",
            "count": 5
           },
           {
            "name": "20.7",
            "count": 4
           },
           {
            "name": "72 others",
            "count": 92
           }
          ]
         }
        },
        {
         "name": "T1",
         "dtype": "object",
         "stats": {
          "unique_count": 72,
          "nan_count": 0,
          "categories": [
           {
            "name": "?",
            "count": 5
           },
           {
            "name": "25.6",
            "count": 4
           },
           {
            "name": "70 others",
            "count": 92
           }
          ]
         }
        },
        {
         "name": "T2",
         "dtype": "object",
         "stats": {
          "unique_count": 73,
          "nan_count": 0,
          "categories": [
           {
            "name": "?",
            "count": 5
           },
           {
            "name": "22.7",
            "count": 3
           },
           {
            "name": "71 others",
            "count": 93
           }
          ]
         }
        },
        {
         "name": "T3",
         "dtype": "object",
         "stats": {
          "unique_count": 69,
          "nan_count": 0,
          "categories": [
           {
            "name": "?",
            "count": 5
           },
           {
            "name": "25.6",
            "count": 4
           },
           {
            "name": "67 others",
            "count": 92
           }
          ]
         }
        },
        {
         "name": "T4",
         "dtype": "object",
         "stats": {
          "unique_count": 73,
          "nan_count": 0,
          "categories": [
           {
            "name": "?",
            "count": 5
           },
           {
            "name": "23.5",
            "count": 4
           },
           {
            "name": "71 others",
            "count": 92
           }
          ]
         }
        },
        {
         "name": "T5",
         "dtype": "object",
         "stats": {
          "unique_count": 72,
          "nan_count": 0,
          "categories": [
           {
            "name": "?",
            "count": 5
           },
           {
            "name": "22.8",
            "count": 3
           },
           {
            "name": "70 others",
            "count": 93
           }
          ]
         }
        },
        {
         "name": "T6",
         "dtype": "object",
         "stats": {
          "unique_count": 71,
          "nan_count": 0,
          "categories": [
           {
            "name": "?",
            "count": 5
           },
           {
            "name": "25.6",
            "count": 4
           },
           {
            "name": "69 others",
            "count": 92
           }
          ]
         }
        },
        {
         "name": "T7",
         "dtype": "object",
         "stats": {
          "unique_count": 76,
          "nan_count": 0,
          "categories": [
           {
            "name": "?",
            "count": 5
           },
           {
            "name": "15.6",
            "count": 3
           },
           {
            "name": "74 others",
            "count": 93
           }
          ]
         }
        },
        {
         "name": "T8",
         "dtype": "object",
         "stats": {
          "unique_count": 68,
          "nan_count": 0,
          "categories": [
           {
            "name": "?",
            "count": 4
           },
           {
            "name": "22.2",
            "count": 3
           },
           {
            "name": "66 others",
            "count": 94
           }
          ]
         }
        },
        {
         "name": "T9",
         "dtype": "object",
         "stats": {
          "unique_count": 72,
          "nan_count": 0,
          "categories": [
           {
            "name": "28.9",
            "count": 5
           },
           {
            "name": "29.6",
            "count": 5
           },
           {
            "name": "70 others",
            "count": 91
           }
          ]
         }
        },
        {
         "name": "T10",
         "dtype": "object",
         "stats": {
          "unique_count": 73,
          "nan_count": 0,
          "categories": [
           {
            "name": "28.7",
            "count": 4
           },
           {
            "name": "?",
            "count": 4
           },
           {
            "name": "71 others",
            "count": 93
           }
          ]
         }
        },
        {
         "name": "T11",
         "dtype": "object",
         "stats": {
          "unique_count": 68,
          "nan_count": 0,
          "categories": [
           {
            "name": "?",
            "count": 4
           },
           {
            "name": "27.9",
            "count": 3
           },
           {
            "name": "66 others",
            "count": 94
           }
          ]
         }
        },
        {
         "name": "T12",
         "dtype": "object",
         "stats": {
          "unique_count": 72,
          "nan_count": 0,
          "categories": [
           {
            "name": "32.2",
            "count": 4
           },
           {
            "name": "?",
            "count": 4
           },
           {
            "name": "70 others",
            "count": 93
           }
          ]
         }
        },
        {
         "name": "T13",
         "dtype": "object",
         "stats": {
          "unique_count": 64,
          "nan_count": 0,
          "categories": [
           {
            "name": "30.2",
            "count": 4
           },
           {
            "name": "?",
            "count": 4
           },
           {
            "name": "62 others",
            "count": 93
           }
          ]
         }
        },
        {
         "name": "T14",
         "dtype": "object",
         "stats": {
          "unique_count": 74,
          "nan_count": 0,
          "categories": [
           {
            "name": "?",
            "count": 4
           },
           {
            "name": "33.9",
            "count": 3
           },
           {
            "name": "72 others",
            "count": 94
           }
          ]
         }
        },
        {
         "name": "T15",
         "dtype": "object",
         "stats": {
          "unique_count": 75,
          "nan_count": 0,
          "categories": [
           {
            "name": "31.7",
            "count": 4
           },
           {
            "name": "28.7",
            "count": 4
           },
           {
            "name": "73 others",
            "count": 93
           }
          ]
         }
        },
        {
         "name": "T16",
         "dtype": "object",
         "stats": {
          "unique_count": 68,
          "nan_count": 0,
          "categories": [
           {
            "name": "30.8",
            "count": 4
           },
           {
            "name": "29.3",
            "count": 4
           },
           {
            "name": "66 others",
            "count": 93
           }
          ]
         }
        },
        {
         "name": "T17",
         "dtype": "object",
         "stats": {
          "unique_count": 72,
          "nan_count": 0,
          "categories": [
           {
            "name": "?",
            "count": 4
           },
           {
            "name": "28.1",
            "count": 3
           },
           {
            "name": "70 others",
            "count": 94
           }
          ]
         }
        },
        {
         "name": "T18",
         "dtype": "object",
         "stats": {
          "unique_count": 70,
          "nan_count": 0,
          "categories": [
           {
            "name": "29.1",
            "count": 4
           },
           {
            "name": "?",
            "count": 4
           },
           {
            "name": "68 others",
            "count": 93
           }
          ]
         }
        },
        {
         "name": "T19",
         "dtype": "object",
         "stats": {
          "unique_count": 69,
          "nan_count": 0,
          "categories": [
           {
            "name": "?",
            "count": 5
           },
           {
            "name": "29.4",
            "count": 3
           },
           {
            "name": "67 others",
            "count": 93
           }
          ]
         }
        },
        {
         "name": "T20",
         "dtype": "object",
         "stats": {
          "unique_count": 68,
          "nan_count": 0,
          "categories": [
           {
            "name": "?",
            "count": 5
           },
           {
            "name": "26.6",
            "count": 3
           },
           {
            "name": "66 others",
            "count": 93
           }
          ]
         }
        },
        {
         "name": "T21",
         "dtype": "object",
         "stats": {
          "unique_count": 69,
          "nan_count": 0,
          "categories": [
           {
            "name": "?",
            "count": 4
           },
           {
            "name": "25.4",
            "count": 3
           },
           {
            "name": "67 others",
            "count": 94
           }
          ]
         }
        },
        {
         "name": "T22",
         "dtype": "object",
         "stats": {
          "unique_count": 69,
          "nan_count": 0,
          "categories": [
           {
            "name": "?",
            "count": 4
           },
           {
            "name": "20.4",
            "count": 3
           },
           {
            "name": "67 others",
            "count": 94
           }
          ]
         }
        },
        {
         "name": "T23",
         "dtype": "object",
         "stats": {
          "unique_count": 72,
          "nan_count": 0,
          "categories": [
           {
            "name": "?",
            "count": 4
           },
           {
            "name": "26.7",
            "count": 3
           },
           {
            "name": "70 others",
            "count": 94
           }
          ]
         }
        },
        {
         "name": "T_PK",
         "dtype": "object",
         "stats": {
          "unique_count": 71,
          "nan_count": 0,
          "categories": [
           {
            "name": "31.7",
            "count": 6
           },
           {
            "name": "?",
            "count": 4
           },
           {
            "name": "69 others",
            "count": 91
           }
          ]
         }
        },
        {
         "name": "T_AV",
         "dtype": "object",
         "stats": {
          "unique_count": 76,
          "nan_count": 0,
          "categories": [
           {
            "name": "?",
            "count": 4
           },
           {
            "name": "21.4",
            "count": 3
           },
           {
            "name": "74 others",
            "count": 94
           }
          ]
         }
        },
        {
         "name": "T85",
         "dtype": "object",
         "stats": {
          "unique_count": 69,
          "nan_count": 0,
          "categories": [
           {
            "name": "15.9",
            "count": 4
           },
           {
            "name": "16.2",
            "count": 3
           },
           {
            "name": "67 others",
            "count": 94
           }
          ]
         }
        },
        {
         "name": "RH85",
         "dtype": "object",
         "stats": {
          "unique_count": 57,
          "nan_count": 0,
          "categories": [
           {
            "name": "0.71",
            "count": 6
           },
           {
            "name": "0.58",
            "count": 4
           },
           {
            "name": "55 others",
            "count": 91
           }
          ]
         }
        },
        {
         "name": "U85",
         "dtype": "object",
         "stats": {
          "unique_count": 93,
          "nan_count": 0,
          "categories": [
           {
            "name": "?",
            "count": 7
           },
           {
            "name": "-2.21",
            "count": 2
           },
           {
            "name": "91 others",
            "count": 92
           }
          ]
         }
        },
        {
         "name": "V85",
         "dtype": "object",
         "stats": {
          "unique_count": 91,
          "nan_count": 0,
          "categories": [
           {
            "name": "?",
            "count": 7
           },
           {
            "name": "-2.07",
            "count": 2
           },
           {
            "name": "89 others",
            "count": 92
           }
          ]
         }
        },
        {
         "name": "HT85",
         "dtype": "object",
         "stats": {
          "unique_count": 82,
          "nan_count": 0,
          "categories": [
           {
            "name": "1578.5",
            "count": 3
           },
           {
            "name": "1522",
            "count": 3
           },
           {
            "name": "80 others",
            "count": 95
           }
          ]
         }
        },
        {
         "name": "T70",
         "dtype": "object",
         "stats": {
          "unique_count": 67,
          "nan_count": 0,
          "categories": [
           {
            "name": "10",
            "count": 4
           },
           {
            "name": "10.4",
            "count": 4
           },
           {
            "name": "65 others",
            "count": 93
           }
          ]
         }
        },
        {
         "name": "RH70",
         "dtype": "object",
         "stats": {
          "unique_count": 57,
          "nan_count": 0,
          "categories": [
           {
            "name": "0.14",
            "count": 4
           },
           {
            "name": "0.07",
            "count": 4
           },
           {
            "name": "55 others",
            "count": 93
           }
          ]
         }
        },
        {
         "name": "U70",
         "dtype": "object",
         "stats": {
          "unique_count": 93,
          "nan_count": 0,
          "categories": [
           {
            "name": "?",
            "count": 5
           },
           {
            "name": "1",
            "count": 2
           },
           {
            "name": "91 others",
            "count": 94
           }
          ]
         }
        },
        {
         "name": "V70",
         "dtype": "object",
         "stats": {
          "unique_count": 93,
          "nan_count": 0,
          "categories": [
           {
            "name": "?",
            "count": 5
           },
           {
            "name": "-1.81",
            "count": 3
           },
           {
            "name": "91 others",
            "count": 93
           }
          ]
         }
        },
        {
         "name": "HT70",
         "dtype": "object",
         "stats": {
          "unique_count": 84,
          "nan_count": 0,
          "categories": [
           {
            "name": "3196",
            "count": 3
           },
           {
            "name": "3144",
            "count": 2
           },
           {
            "name": "82 others",
            "count": 96
           }
          ]
         }
        },
        {
         "name": "T50",
         "dtype": "object",
         "stats": {
          "unique_count": 63,
          "nan_count": 0,
          "categories": [
           {
            "name": "-6.8",
            "count": 5
           },
           {
            "name": "-6.2",
            "count": 4
           },
           {
            "name": "61 others",
            "count": 92
           }
          ]
         }
        },
        {
         "name": "RH50",
         "dtype": "object",
         "stats": {
          "unique_count": 45,
          "nan_count": 0,
          "categories": [
           {
            "name": "0.02",
            "count": 7
           },
           {
            "name": "0.04",
            "count": 6
           },
           {
            "name": "43 others",
            "count": 88
           }
          ]
         }
        },
        {
         "name": "U50",
         "dtype": "object",
         "stats": {
          "unique_count": 95,
          "nan_count": 0,
          "categories": [
           {
            "name": "?",
            "count": 5
           },
           {
            "name": "-1.25",
            "count": 2
           },
           {
            "name": "93 others",
            "count": 94
           }
          ]
         }
        },
        {
         "name": "V50",
         "dtype": "object",
         "stats": {
          "unique_count": 92,
          "nan_count": 0,
          "categories": [
           {
            "name": "?",
            "count": 5
           },
           {
            "name": "-2.28",
            "count": 2
           },
           {
            "name": "90 others",
            "count": 94
           }
          ]
         }
        },
        {
         "name": "HT50",
         "dtype": "object",
         "stats": {
          "unique_count": 37,
          "nan_count": 0,
          "categories": [
           {
            "name": "5895",
            "count": 9
           },
           {
            "name": "5860",
            "count": 7
           },
           {
            "name": "35 others",
            "count": 85
           }
          ]
         }
        },
        {
         "name": "KI",
         "dtype": "object",
         "stats": {
          "unique_count": 96,
          "nan_count": 0,
          "categories": [
           {
            "name": "8.3",
            "count": 2
           },
           {
            "name": "14.1",
            "count": 2
           },
           {
            "name": "94 others",
            "count": 97
           }
          ]
         }
        },
        {
         "name": "TT",
         "dtype": "object",
         "stats": {
          "unique_count": 90,
          "nan_count": 0,
          "categories": [
           {
            "name": "30.6",
            "count": 2
           },
           {
            "name": "51",
            "count": 2
           },
           {
            "name": "88 others",
            "count": 97
           }
          ]
         }
        },
        {
         "name": "SLP",
         "dtype": "object",
         "stats": {
          "unique_count": 29,
          "nan_count": 0,
          "categories": [
           {
            "name": "10140",
            "count": 10
           },
           {
            "name": "10125",
            "count": 8
           },
           {
            "name": "27 others",
            "count": 83
           }
          ]
         }
        },
        {
         "name": "SLP_",
         "dtype": "object",
         "stats": {
          "unique_count": 22,
          "nan_count": 0,
          "categories": [
           {
            "name": "0",
            "count": 13
           },
           {
            "name": "-5",
            "count": 12
           },
           {
            "name": "20 others",
            "count": 76
           }
          ]
         }
        },
        {
         "name": "Precp",
         "dtype": "object",
         "stats": {
          "unique_count": 9,
          "nan_count": 0,
          "categories": [
           {
            "name": "0",
            "count": 93
           },
           {
            "name": "0.03",
            "count": 1
           },
           {
            "name": "7 others",
            "count": 7
           }
          ]
         }
        },
        {
         "name": "y",
         "dtype": "float64",
         "stats": {
          "unique_count": 2,
          "nan_count": 0,
          "min": "0.0",
          "max": "1.0",
          "histogram": [
           {
            "bin_start": 0,
            "bin_end": 0.1,
            "count": 95
           },
           {
            "bin_start": 0.1,
            "bin_end": 0.2,
            "count": 0
           },
           {
            "bin_start": 0.2,
            "bin_end": 0.30000000000000004,
            "count": 0
           },
           {
            "bin_start": 0.30000000000000004,
            "bin_end": 0.4,
            "count": 0
           },
           {
            "bin_start": 0.4,
            "bin_end": 0.5,
            "count": 0
           },
           {
            "bin_start": 0.5,
            "bin_end": 0.6000000000000001,
            "count": 0
           },
           {
            "bin_start": 0.6000000000000001,
            "bin_end": 0.7000000000000001,
            "count": 0
           },
           {
            "bin_start": 0.7000000000000001,
            "bin_end": 0.8,
            "count": 0
           },
           {
            "bin_start": 0.8,
            "bin_end": 0.9,
            "count": 0
           },
           {
            "bin_start": 0.9,
            "bin_end": 1,
            "count": 6
           }
          ]
         }
        },
        {
         "name": "_deepnote_index_column",
         "dtype": "object"
        }
       ],
       "rows_top": [
        {
         "WSR0": "0.4",
         "WSR1": "0.5",
         "WSR2": "2.1",
         "WSR3": "2.2",
         "WSR4": "2.5",
         "WSR5": "2.4",
         "WSR6": "2.1",
         "WSR7": "2.9",
         "WSR8": "3.6",
         "WSR9": "3.4",
         "WSR10": "2.6",
         "WSR11": "2.1",
         "WSR12": "1.4",
         "WSR13": "2.3",
         "WSR14": "2.6",
         "WSR15": "2.9",
         "WSR16": "3.1",
         "WSR17": "3.1",
         "WSR18": "2.8",
         "WSR19": "2.4",
         "WSR20": "2",
         "WSR21": "1.3",
         "WSR22": "0.8",
         "WSR23": "0.4",
         "WSR_PK": "3.6",
         "WSR_AV": "2.2",
         "T0": "12.4",
         "T1": "11.7",
         "T2": "12.6",
         "T3": "12.2",
         "T4": "11.8",
         "T5": "11.4",
         "T6": "11.1",
         "T7": "12.4",
         "T8": "14.3",
         "T9": "16.5",
         "T10": "18.4",
         "T11": "19.9",
         "T12": "21",
         "T13": "21.4",
         "T14": "22",
         "T15": "22.2",
         "T16": "21.9",
         "T17": "20.8",
         "T18": "18.6",
         "T19": "16.9",
         "T20": "15.9",
         "T21": "15.2",
         "T22": "14.4",
         "T23": "13.3",
         "T_PK": "22.2",
         "T_AV": "16.2",
         "T85": "11.4",
         "RH85": "0.13",
         "U85": "2.84",
         "V85": "-5.45",
         "HT85": "1482.5",
         "T70": "6.1",
         "RH70": "0.14",
         "U70": "12.49",
         "V70": "-10.6",
         "HT70": "3095",
         "T50": "-11.3",
         "RH50": "0.1",
         "U50": "20.91",
         "V50": "-3.9",
         "HT50": "5755",
         "KI": "-15.9",
         "TT": "19.4",
         "SLP": "10140",
         "SLP_": "20",
         "Precp": "0",
         "y": 0,
         "_deepnote_index_column": "4/5/1998"
        },
        {
         "WSR0": "0",
         "WSR1": "0.6",
         "WSR2": "0.4",
         "WSR3": "0.3",
         "WSR4": "0.1",
         "WSR5": "0.3",
         "WSR6": "0.2",
         "WSR7": "1.4",
         "WSR8": "2.6",
         "WSR9": "3.8",
         "WSR10": "4.3",
         "WSR11": "3.7",
         "WSR12": "4.2",
         "WSR13": "4.2",
         "WSR14": "4.5",
         "WSR15": "4.9",
         "WSR16": "4.4",
         "WSR17": "4.6",
         "WSR18": "4",
         "WSR19": "2.9",
         "WSR20": "3.2",
         "WSR21": "2.9",
         "WSR22": "2.7",
         "WSR23": "2.9",
         "WSR_PK": "4.9",
         "WSR_AV": "2.6",
         "T0": "13.1",
         "T1": "13.1",
         "T2": "12.1",
         "T3": "10.7",
         "T4": "10.4",
         "T5": "10.2",
         "T6": "10.5",
         "T7": "15.6",
         "T8": "19.7",
         "T9": "22.4",
         "T10": "23.6",
         "T11": "24.6",
         "T12": "24.4",
         "T13": "24.3",
         "T14": "24.4",
         "T15": "24.3",
         "T16": "23.9",
         "T17": "22.7",
         "T18": "20.7",
         "T19": "19.1",
         "T20": "18.2",
         "T21": "17.6",
         "T22": "17.1",
         "T23": "16.9",
         "T_PK": "24.6",
         "T_AV": "18.3",
         "T85": "10.3",
         "RH85": "0.28",
         "U85": "2.55",
         "V85": "-8.85",
         "HT85": "1561",
         "T70": "1.15",
         "RH70": "0.16",
         "U70": "5.64",
         "V70": "-14.05",
         "HT70": "3144",
         "T50": "-11.8",
         "RH50": "0.15",
         "U50": "17.27",
         "V50": "-12.27",
         "HT50": "5795",
         "KI": "-12.6",
         "TT": "24.2",
         "SLP": "10220",
         "SLP_": "45",
         "Precp": "0",
         "y": 0,
         "_deepnote_index_column": "4/11/1998"
        },
        {
         "WSR0": "1.8",
         "WSR1": "0.3",
         "WSR2": "0.1",
         "WSR3": "0.1",
         "WSR4": "0.1",
         "WSR5": "0.2",
         "WSR6": "0.2",
         "WSR7": "0.7",
         "WSR8": "0.9",
         "WSR9": "2",
         "WSR10": "3",
         "WSR11": "3",
         "WSR12": "2.8",
         "WSR13": "3",
         "WSR14": "2.7",
         "WSR15": "3.1",
         "WSR16": "2.8",
         "WSR17": "2.6",
         "WSR18": "2.4",
         "WSR19": "2",
         "WSR20": "1.8",
         "WSR21": "1.1",
         "WSR22": "0.8",
         "WSR23": "0.2",
         "WSR_PK": "3.1",
         "WSR_AV": "1.6",
         "T0": "15.1",
         "T1": "13.3",
         "T2": "11.9",
         "T3": "11.3",
         "T4": "10.8",
         "T5": "10.5",
         "T6": "11.3",
         "T7": "15.6",
         "T8": "19.4",
         "T9": "21.8",
         "T10": "22.9",
         "T11": "23.7",
         "T12": "23.9",
         "T13": "23.8",
         "T14": "24.1",
         "T15": "24.2",
         "T16": "23.9",
         "T17": "23.2",
         "T18": "21.5",
         "T19": "19.4",
         "T20": "17.9",
         "T21": "16.9",
         "T22": "15.8",
         "T23": "14.9",
         "T_PK": "24.2",
         "T_AV": "18.2",
         "T85": "7",
         "RH85": "0.53",
         "U85": "-2.29",
         "V85": "-5.44",
         "HT85": "1520.5",
         "T70": "0.05",
         "RH70": "0.16",
         "U70": "5.23",
         "V70": "-5.64",
         "HT70": "3096",
         "T50": "-13.1",
         "RH50": "0.31",
         "U50": "20.36",
         "V50": "2.61",
         "HT50": "5740",
         "KI": "-3.5",
         "TT": "30.6",
         "SLP": "10180",
         "SLP_": "35",
         "Precp": "0",
         "y": 0,
         "_deepnote_index_column": "4/20/1998"
        },
        {
         "WSR0": "0.5",
         "WSR1": "0.1",
         "WSR2": "0.1",
         "WSR3": "0.1",
         "WSR4": "0.1",
         "WSR5": "0.2",
         "WSR6": "0.3",
         "WSR7": "0.8",
         "WSR8": "1.2",
         "WSR9": "1.3",
         "WSR10": "2.2",
         "WSR11": "2.8",
         "WSR12": "3.4",
         "WSR13": "3",
         "WSR14": "3.4",
         "WSR15": "2.5",
         "WSR16": "2.6",
         "WSR17": "2",
         "WSR18": "1",
         "WSR19": "1.8",
         "WSR20": "1.6",
         "WSR21": "1.8",
         "WSR22": "1.7",
         "WSR23": "1.3",
         "WSR_PK": "3.4",
         "WSR_AV": "1.5",
         "T0": "11.7",
         "T1": "11.2",
         "T2": "10.6",
         "T3": "10.3",
         "T4": "9.9",
         "T5": "9.8",
         "T6": "10.8",
         "T7": "15.6",
         "T8": "20.3",
         "T9": "22.3",
         "T10": "23.2",
         "T11": "24.1",
         "T12": "24.8",
         "T13": "25.2",
         "T14": "25.7",
         "T15": "26.3",
         "T16": "26.1",
         "T17": "26",
         "T18": "24.7",
         "T19": "21.5",
         "T20": "19.4",
         "T21": "18.7",
         "T22": "18.1",
         "T23": "17.2",
         "T_PK": "26.3",
         "T_AV": "18.9",
         "T85": "6.3",
         "RH85": "0.43",
         "U85": "3.18",
         "V85": "-6.76",
         "HT85": "1535",
         "T70": "-4.1",
         "RH70": "0.14",
         "U70": "11.12",
         "V70": "-11.93",
         "HT70": "3090.5",
         "T50": "-18",
         "RH50": "0.14",
         "U50": "16.78",
         "V50": "-17.99",
         "HT50": "5680",
         "KI": "-2.4",
         "TT": "37.6",
         "SLP": "10195",
         "SLP_": "-10",
         "Precp": "0",
         "y": 0,
         "_deepnote_index_column": "4/23/1998"
        },
        {
         "WSR0": "3.1",
         "WSR1": "2.4",
         "WSR2": "2.4",
         "WSR3": "3",
         "WSR4": "3.4",
         "WSR5": "3.4",
         "WSR6": "3.9",
         "WSR7": "4.5",
         "WSR8": "5.5",
         "WSR9": "5.5",
         "WSR10": "5.2",
         "WSR11": "5.1",
         "WSR12": "5.5",
         "WSR13": "5.5",
         "WSR14": "5.5",
         "WSR15": "5.5",
         "WSR16": "5.1",
         "WSR17": "4.9",
         "WSR18": "4.9",
         "WSR19": "3.8",
         "WSR20": "3.8",
         "WSR21": "3",
         "WSR22": "2.6",
         "WSR23": "3",
         "WSR_PK": "5.5",
         "WSR_AV": "4.2",
         "T0": "19",
         "T1": "18.6",
         "T2": "18.4",
         "T3": "18.4",
         "T4": "18.7",
         "T5": "18.6",
         "T6": "19.3",
         "T7": "20.9",
         "T8": "22.2",
         "T9": "23",
         "T10": "24.1",
         "T11": "24.9",
         "T12": "25.1",
         "T13": "24.9",
         "T14": "24.7",
         "T15": "24.1",
         "T16": "23.3",
         "T17": "22.7",
         "T18": "21.9",
         "T19": "21.2",
         "T20": "20.6",
         "T21": "20.1",
         "T22": "19.8",
         "T23": "19.9",
         "T_PK": "25.1",
         "T_AV": "21.4",
         "T85": "11.6",
         "RH85": "0.58",
         "U85": "1.72",
         "V85": "5.03",
         "HT85": "1520",
         "T70": "5.3",
         "RH70": "0.27",
         "U70": "-2.86",
         "V70": "-2.78",
         "HT70": "3128.5",
         "T50": "-10.8",
         "RH50": "0.13",
         "U50": "9.22",
         "V50": "-5.96",
         "HT50": "5790",
         "KI": "7.1",
         "TT": "35.4",
         "SLP": "10165",
         "SLP_": "-25",
         "Precp": "0",
         "y": 0,
         "_deepnote_index_column": "4/25/1998"
        },
        {
         "WSR0": "3.4",
         "WSR1": "2.7",
         "WSR2": "2.2",
         "WSR3": "2.2",
         "WSR4": "1.3",
         "WSR5": "0.6",
         "WSR6": "1.9",
         "WSR7": "2.9",
         "WSR8": "3.5",
         "WSR9": "4.1",
         "WSR10": "3.8",
         "WSR11": "4.6",
         "WSR12": "5",
         "WSR13": "4.7",
         "WSR14": "4.8",
         "WSR15": "4.2",
         "WSR16": "3",
         "WSR17": "2.1",
         "WSR18": "1.7",
         "WSR19": "1.1",
         "WSR20": "1.8",
         "WSR21": "0.8",
         "WSR22": "0.4",
         "WSR23": "0.2",
         "WSR_PK": "5",
         "WSR_AV": "2.6",
         "T0": "18.8",
         "T1": "18.2",
         "T2": "17.7",
         "T3": "17.8",
         "T4": "17.2",
         "T5": "16.2",
         "T6": "17.1",
         "T7": "18.8",
         "T8": "20.7",
         "T9": "23.4",
         "T10": "25.9",
         "T11": "27.9",
         "T12": "29.2",
         "T13": "29.8",
         "T14": "30.8",
         "T15": "31.7",
         "T16": "31.7",
         "T17": "30.6",
         "T18": "29.1",
         "T19": "26.8",
         "T20": "26.6",
         "T21": "25.4",
         "T22": "22.1",
         "T23": "20.1",
         "T_PK": "31.7",
         "T_AV": "23.9",
         "T85": "14.3",
         "RH85": "0.4",
         "U85": "11.93",
         "V85": "-1.48",
         "HT85": "1494.5",
         "T70": "1.1",
         "RH70": "0.49",
         "U70": "11.84",
         "V70": "-4.31",
         "HT70": "3096",
         "T50": "-16.7",
         "RH50": "0.21",
         "U50": "16.17",
         "V50": "-1.06",
         "HT50": "5710",
         "KI": "18.05",
         "TT": "48.5",
         "SLP": "10115",
         "SLP_": "-30",
         "Precp": "0",
         "y": 0,
         "_deepnote_index_column": "5/1/1998"
        }
       ],
       "rows_bottom": [
        {
         "WSR0": "0.6",
         "WSR1": "0.8",
         "WSR2": "1",
         "WSR3": "1.2",
         "WSR4": "0.9",
         "WSR5": "0.8",
         "WSR6": "1.9",
         "WSR7": "3.2",
         "WSR8": "3.4",
         "WSR9": "2.5",
         "WSR10": "1.1",
         "WSR11": "0.6",
         "WSR12": "1.4",
         "WSR13": "1.3",
         "WSR14": "1.8",
         "WSR15": "1.2",
         "WSR16": "1",
         "WSR17": "1.2",
         "WSR18": "1.7",
         "WSR19": "3",
         "WSR20": "2.5",
         "WSR21": "2.2",
         "WSR22": "1.9",
         "WSR23": "1.3",
         "WSR_PK": "3.4",
         "WSR_AV": "1.6",
         "T0": "27.1",
         "T1": "26.8",
         "T2": "26.5",
         "T3": "26.2",
         "T4": "25.6",
         "T5": "25.2",
         "T6": "25.7",
         "T7": "27.2",
         "T8": "28.5",
         "T9": "29.6",
         "T10": "30.6",
         "T11": "31.4",
         "T12": "32.4",
         "T13": "32.9",
         "T14": "33.3",
         "T15": "33.3",
         "T16": "33.2",
         "T17": "33.6",
         "T18": "32.2",
         "T19": "30.2",
         "T20": "29.4",
         "T21": "28.7",
         "T22": "28.1",
         "T23": "27.3",
         "T_PK": "33.6",
         "T_AV": "29.4",
         "T85": "19.2",
         "RH85": "0.85",
         "U85": "-0.67",
         "V85": "-0.74",
         "HT85": "1543.5",
         "T70": "11.1",
         "RH70": "0.36",
         "U70": "-5.1",
         "V70": "-0.58",
         "HT70": "3190",
         "T50": "-6.1",
         "RH50": "0.1",
         "U50": "-1.07",
         "V50": "-5.03",
         "HT50": "5900",
         "KI": "27.35",
         "TT": "47.95",
         "SLP": "10125",
         "SLP_": "0",
         "Precp": "0",
         "y": 0,
         "_deepnote_index_column": "7/16/2004"
        },
        {
         "WSR0": "0.6",
         "WSR1": "0.2",
         "WSR2": "0.2",
         "WSR3": "0.3",
         "WSR4": "0.4",
         "WSR5": "0.4",
         "WSR6": "1.3",
         "WSR7": "1.7",
         "WSR8": "1.8",
         "WSR9": "1.4",
         "WSR10": "1.7",
         "WSR11": "2.3",
         "WSR12": "2.2",
         "WSR13": "2.1",
         "WSR14": "1.8",
         "WSR15": "2.1",
         "WSR16": "2.3",
         "WSR17": "2.4",
         "WSR18": "2.2",
         "WSR19": "2.3",
         "WSR20": "1.7",
         "WSR21": "1",
         "WSR22": "0.7",
         "WSR23": "0.7",
         "WSR_PK": "2.4",
         "WSR_AV": "1.4",
         "T0": "25.8",
         "T1": "25.4",
         "T2": "25.1",
         "T3": "24.8",
         "T4": "24.7",
         "T5": "24.4",
         "T6": "24.6",
         "T7": "25.9",
         "T8": "27.6",
         "T9": "28.9",
         "T10": "30",
         "T11": "30.9",
         "T12": "31.6",
         "T13": "31.7",
         "T14": "32",
         "T15": "32.1",
         "T16": "31.9",
         "T17": "31.6",
         "T18": "30.2",
         "T19": "28.7",
         "T20": "27.6",
         "T21": "26.8",
         "T22": "26.3",
         "T23": "25.6",
         "T_PK": "32.1",
         "T_AV": "28.1",
         "T85": "15.6",
         "RH85": "0.69",
         "U85": "0.42",
         "V85": "-2.81",
         "HT85": "1525",
         "T70": "11",
         "RH70": "0.09",
         "U70": "?",
         "V70": "?",
         "HT70": "3166",
         "T50": "-8.2",
         "RH50": "0.08",
         "U50": "1.03",
         "V50": "-4.79",
         "HT50": "5870",
         "KI": "3",
         "TT": "41.2",
         "SLP": "10125",
         "SLP_": "10",
         "Precp": "0",
         "y": 0,
         "_deepnote_index_column": "7/20/2004"
        },
        {
         "WSR0": "0.6",
         "WSR1": "1.2",
         "WSR2": "0.8",
         "WSR3": "0.4",
         "WSR4": "0.4",
         "WSR5": "0.4",
         "WSR6": "0.5",
         "WSR7": "2.4",
         "WSR8": "2.7",
         "WSR9": "2.3",
         "WSR10": "1.7",
         "WSR11": "1.3",
         "WSR12": "0.5",
         "WSR13": "0.7",
         "WSR14": "1",
         "WSR15": "1.1",
         "WSR16": "1.5",
         "WSR17": "1.8",
         "WSR18": "1.9",
         "WSR19": "2.3",
         "WSR20": "1.7",
         "WSR21": "1.2",
         "WSR22": "1.4",
         "WSR23": "1.2",
         "WSR_PK": "2.7",
         "WSR_AV": "1.3",
         "T0": "27.7",
         "T1": "27.3",
         "T2": "27.1",
         "T3": "26.7",
         "T4": "26.7",
         "T5": "26.9",
         "T6": "26.8",
         "T7": "27.8",
         "T8": "29",
         "T9": "30.4",
         "T10": "31.4",
         "T11": "32.5",
         "T12": "33.1",
         "T13": "33.9",
         "T14": "34.3",
         "T15": "34.7",
         "T16": "34.9",
         "T17": "34.5",
         "T18": "33.1",
         "T19": "31.2",
         "T20": "30.1",
         "T21": "29.3",
         "T22": "28.7",
         "T23": "28.1",
         "T_PK": "34.9",
         "T_AV": "30.2",
         "T85": "20",
         "RH85": "0.38",
         "U85": "?",
         "V85": "?",
         "HT85": "1532",
         "T70": "8.4",
         "RH70": "0.57",
         "U70": "?",
         "V70": "?",
         "HT70": "3175",
         "T50": "-4.4",
         "RH50": "0.13",
         "U50": "-8.99",
         "V50": "-8.24",
         "HT50": "5895",
         "KI": "20.55",
         "TT": "33.3",
         "SLP": "10115",
         "SLP_": "-10",
         "Precp": "0",
         "y": 0,
         "_deepnote_index_column": "8/4/2004"
        },
        {
         "WSR0": "0.4",
         "WSR1": "0.1",
         "WSR2": "0.3",
         "WSR3": "0.5",
         "WSR4": "0.5",
         "WSR5": "0.5",
         "WSR6": "0.5",
         "WSR7": "1.3",
         "WSR8": "1.6",
         "WSR9": "1.6",
         "WSR10": "2.1",
         "WSR11": "2.6",
         "WSR12": "3.4",
         "WSR13": "3.1",
         "WSR14": "3.1",
         "WSR15": "3",
         "WSR16": "3",
         "WSR17": "3.4",
         "WSR18": "2.5",
         "WSR19": "2.2",
         "WSR20": "1.4",
         "WSR21": "1.1",
         "WSR22": "1",
         "WSR23": "0.3",
         "WSR_PK": "3.4",
         "WSR_AV": "1.6",
         "T0": "21.6",
         "T1": "20.7",
         "T2": "20.4",
         "T3": "20.3",
         "T4": "20.2",
         "T5": "19.8",
         "T6": "20.3",
         "T7": "22.7",
         "T8": "24.9",
         "T9": "27",
         "T10": "28.7",
         "T11": "29.7",
         "T12": "30.6",
         "T13": "31.3",
         "T14": "31.7",
         "T15": "31.8",
         "T16": "31.2",
         "T17": "30.5",
         "T18": "29.1",
         "T19": "27.6",
         "T20": "26.2",
         "T21": "25.2",
         "T22": "24.6",
         "T23": "23.5",
         "T_PK": "31.8",
         "T_AV": "25.8",
         "T85": "14.3",
         "RH85": "0.63",
         "U85": "-1.12",
         "V85": "-0.88",
         "HT85": "1578.5",
         "T70": "7.8",
         "RH70": "0.17",
         "U70": "1.47",
         "V70": "1.26",
         "HT70": "3198",
         "T50": "-6.7",
         "RH50": "0.31",
         "U50": "?",
         "V50": "?",
         "HT50": "5895",
         "KI": "5.3",
         "TT": "35",
         "SLP": "10195",
         "SLP_": "-10",
         "Precp": "0",
         "y": 0,
         "_deepnote_index_column": "8/17/2004"
        },
        {
         "WSR0": "0.4",
         "WSR1": "0.8",
         "WSR2": "0.8",
         "WSR3": "0.8",
         "WSR4": "0.8",
         "WSR5": "1.2",
         "WSR6": "1.2",
         "WSR7": "1.5",
         "WSR8": "1.9",
         "WSR9": "1.8",
         "WSR10": "0.9",
         "WSR11": "1.5",
         "WSR12": "1.3",
         "WSR13": "1.3",
         "WSR14": "0.9",
         "WSR15": "1.2",
         "WSR16": "1.3",
         "WSR17": "1.3",
         "WSR18": "0.8",
         "WSR19": "2.1",
         "WSR20": "1.7",
         "WSR21": "1.3",
         "WSR22": "0.5",
         "WSR23": "0.9",
         "WSR_PK": "2.1",
         "WSR_AV": "1.2",
         "T0": "23.7",
         "T1": "23.8",
         "T2": "23.5",
         "T3": "23.2",
         "T4": "22.8",
         "T5": "22.8",
         "T6": "23.2",
         "T7": "24",
         "T8": "25.1",
         "T9": "25.8",
         "T10": "27.4",
         "T11": "28.8",
         "T12": "29.1",
         "T13": "29.2",
         "T14": "29",
         "T15": "28.9",
         "T16": "28.2",
         "T17": "27.6",
         "T18": "25.4",
         "T19": "22.6",
         "T20": "22.9",
         "T21": "23.3",
         "T22": "23.2",
         "T23": "23.5",
         "T_PK": "29.2",
         "T_AV": "25.3",
         "T85": "16",
         "RH85": "0.75",
         "U85": "-2.48",
         "V85": "-0.38",
         "HT85": "1553",
         "T70": "8.9",
         "RH70": "0.19",
         "U70": "2.55",
         "V70": "1.19",
         "HT70": "3178.5",
         "T50": "-7.5",
         "RH50": "0.44",
         "U50": "4.42",
         "V50": "2.42",
         "HT50": "5880",
         "KI": "8.9",
         "TT": "42.4",
         "SLP": "10155",
         "SLP_": "-25",
         "Precp": "1.19",
         "y": 0,
         "_deepnote_index_column": "9/2/2004"
        },
        {
         "WSR0": "0.1",
         "WSR1": "0.3",
         "WSR2": "1",
         "WSR3": "0.5",
         "WSR4": "0.4",
         "WSR5": "0.4",
         "WSR6": "0.5",
         "WSR7": "1",
         "WSR8": "1.1",
         "WSR9": "1.1",
         "WSR10": "0.5",
         "WSR11": "0.6",
         "WSR12": "1.6",
         "WSR13": "1.7",
         "WSR14": "1.4",
         "WSR15": "0.9",
         "WSR16": "1.3",
         "WSR17": "1.4",
         "WSR18": "2.1",
         "WSR19": "1.4",
         "WSR20": "1",
         "WSR21": "1",
         "WSR22": "0.3",
         "WSR23": "0.4",
         "WSR_PK": "2.1",
         "WSR_AV": "0.9",
         "T0": "21.4",
         "T1": "21.2",
         "T2": "21.5",
         "T3": "20.8",
         "T4": "20.3",
         "T5": "19.6",
         "T6": "19.4",
         "T7": "21.2",
         "T8": "23.9",
         "T9": "26.4",
         "T10": "27.8",
         "T11": "28.9",
         "T12": "29.5",
         "T13": "30.2",
         "T14": "30.6",
         "T15": "30.9",
         "T16": "30.8",
         "T17": "30.2",
         "T18": "28.4",
         "T19": "26.7",
         "T20": "25.2",
         "T21": "24.3",
         "T22": "22.6",
         "T23": "21.3",
         "T_PK": "30.9",
         "T_AV": "25.1",
         "T85": "14",
         "RH85": "0.59",
         "U85": "3.74",
         "V85": "-9.12",
         "HT85": "1531",
         "T70": "7.1",
         "RH70": "0.57",
         "U70": "5.63",
         "V70": "-0.49",
         "HT70": "3151",
         "T50": "-8.2",
         "RH50": "0.07",
         "U50": "14.12",
         "V50": "6.61",
         "HT50": "5835",
         "KI": "20.2",
         "TT": "36.4",
         "SLP": "10150",
         "SLP_": "25",
         "Precp": "0",
         "y": 0,
         "_deepnote_index_column": "9/29/2004"
        },
        {
         "WSR0": "0.4",
         "WSR1": "0.9",
         "WSR2": "1.1",
         "WSR3": "1",
         "WSR4": "1.1",
         "WSR5": "1",
         "WSR6": "1.3",
         "WSR7": "1.7",
         "WSR8": "2.2",
         "WSR9": "2.5",
         "WSR10": "1.8",
         "WSR11": "0.6",
         "WSR12": "0.4",
         "WSR13": "0.3",
         "WSR14": "0.5",
         "WSR15": "0.4",
         "WSR16": "1.8",
         "WSR17": "1.8",
         "WSR18": "1.7",
         "WSR19": "2.3",
         "WSR20": "1.7",
         "WSR21": "1.2",
         "WSR22": "0.4",
         "WSR23": "1.1",
         "WSR_PK": "2.5",
         "WSR_AV": "1.2",
         "T0": "20.7",
         "T1": "20.4",
         "T2": "20.2",
         "T3": "20.2",
         "T4": "20.2",
         "T5": "20.3",
         "T6": "20.2",
         "T7": "21.3",
         "T8": "23.8",
         "T9": "26.5",
         "T10": "27.8",
         "T11": "28.7",
         "T12": "29.5",
         "T13": "30.2",
         "T14": "30.2",
         "T15": "30.8",
         "T16": "30.9",
         "T17": "29.9",
         "T18": "27.8",
         "T19": "25.8",
         "T20": "24.8",
         "T21": "23.8",
         "T22": "22.7",
         "T23": "22.1",
         "T_PK": "30.9",
         "T_AV": "24.9",
         "T85": "14.5",
         "RH85": "0.39",
         "U85": "-0.32",
         "V85": "-2.04",
         "HT85": "1524.5",
         "T70": "6.2",
         "RH70": "0.51",
         "U70": "3.51",
         "V70": "0.57",
         "HT70": "3143.5",
         "T50": "-7.7",
         "RH50": "0.04",
         "U50": "?",
         "V50": "?",
         "HT50": "5830",
         "KI": "11.7",
         "TT": "28.4",
         "SLP": "10140",
         "SLP_": "-10",
         "Precp": "0",
         "y": 0,
         "_deepnote_index_column": "9/30/2004"
        }
       ]
      },
      "text/plain": "          WSR0 WSR1 WSR2 WSR3 WSR4 WSR5 WSR6 WSR7 WSR8 WSR9  ...  RH50    U50  \\\n4/5/1998   0.4  0.5  2.1  2.2  2.5  2.4  2.1  2.9  3.6  3.4  ...   0.1  20.91   \n4/11/1998    0  0.6  0.4  0.3  0.1  0.3  0.2  1.4  2.6  3.8  ...  0.15  17.27   \n4/20/1998  1.8  0.3  0.1  0.1  0.1  0.2  0.2  0.7  0.9    2  ...  0.31  20.36   \n4/23/1998  0.5  0.1  0.1  0.1  0.1  0.2  0.3  0.8  1.2  1.3  ...  0.14  16.78   \n4/25/1998  3.1  2.4  2.4    3  3.4  3.4  3.9  4.5  5.5  5.5  ...  0.13   9.22   \n...        ...  ...  ...  ...  ...  ...  ...  ...  ...  ...  ...   ...    ...   \n8/4/2004   0.6  1.2  0.8  0.4  0.4  0.4  0.5  2.4  2.7  2.3  ...  0.13  -8.99   \n8/17/2004  0.4  0.1  0.3  0.5  0.5  0.5  0.5  1.3  1.6  1.6  ...  0.31      ?   \n9/2/2004   0.4  0.8  0.8  0.8  0.8  1.2  1.2  1.5  1.9  1.8  ...  0.44   4.42   \n9/29/2004  0.1  0.3    1  0.5  0.4  0.4  0.5    1  1.1  1.1  ...  0.07  14.12   \n9/30/2004  0.4  0.9  1.1    1  1.1    1  1.3  1.7  2.2  2.5  ...  0.04      ?   \n\n              V50  HT50     KI    TT    SLP SLP_ Precp    y  \n4/5/1998     -3.9  5755  -15.9  19.4  10140   20     0  0.0  \n4/11/1998  -12.27  5795  -12.6  24.2  10220   45     0  0.0  \n4/20/1998    2.61  5740   -3.5  30.6  10180   35     0  0.0  \n4/23/1998  -17.99  5680   -2.4  37.6  10195  -10     0  0.0  \n4/25/1998   -5.96  5790    7.1  35.4  10165  -25     0  0.0  \n...           ...   ...    ...   ...    ...  ...   ...  ...  \n8/4/2004    -8.24  5895  20.55  33.3  10115  -10     0  0.0  \n8/17/2004       ?  5895    5.3    35  10195  -10     0  0.0  \n9/2/2004     2.42  5880    8.9  42.4  10155  -25  1.19  0.0  \n9/29/2004    6.61  5835   20.2  36.4  10150   25     0  0.0  \n9/30/2004       ?  5830   11.7  28.4  10140  -10     0  0.0  \n\n[101 rows x 73 columns]",
      "text/html": "<div>\n<style scoped>\n    .dataframe tbody tr th:only-of-type {\n        vertical-align: middle;\n    }\n\n    .dataframe tbody tr th {\n        vertical-align: top;\n    }\n\n    .dataframe thead th {\n        text-align: right;\n    }\n</style>\n<table border=\"1\" class=\"dataframe\">\n  <thead>\n    <tr style=\"text-align: right;\">\n      <th></th>\n      <th>WSR0</th>\n      <th>WSR1</th>\n      <th>WSR2</th>\n      <th>WSR3</th>\n      <th>WSR4</th>\n      <th>WSR5</th>\n      <th>WSR6</th>\n      <th>WSR7</th>\n      <th>WSR8</th>\n      <th>WSR9</th>\n      <th>...</th>\n      <th>RH50</th>\n      <th>U50</th>\n      <th>V50</th>\n      <th>HT50</th>\n      <th>KI</th>\n      <th>TT</th>\n      <th>SLP</th>\n      <th>SLP_</th>\n      <th>Precp</th>\n      <th>y</th>\n    </tr>\n  </thead>\n  <tbody>\n    <tr>\n      <th>4/5/1998</th>\n      <td>0.4</td>\n      <td>0.5</td>\n      <td>2.1</td>\n      <td>2.2</td>\n      <td>2.5</td>\n      <td>2.4</td>\n      <td>2.1</td>\n      <td>2.9</td>\n      <td>3.6</td>\n      <td>3.4</td>\n      <td>...</td>\n      <td>0.1</td>\n      <td>20.91</td>\n      <td>-3.9</td>\n      <td>5755</td>\n      <td>-15.9</td>\n      <td>19.4</td>\n      <td>10140</td>\n      <td>20</td>\n      <td>0</td>\n      <td>0.0</td>\n    </tr>\n    <tr>\n      <th>4/11/1998</th>\n      <td>0</td>\n      <td>0.6</td>\n      <td>0.4</td>\n      <td>0.3</td>\n      <td>0.1</td>\n      <td>0.3</td>\n      <td>0.2</td>\n      <td>1.4</td>\n      <td>2.6</td>\n      <td>3.8</td>\n      <td>...</td>\n      <td>0.15</td>\n      <td>17.27</td>\n      <td>-12.27</td>\n      <td>5795</td>\n      <td>-12.6</td>\n      <td>24.2</td>\n      <td>10220</td>\n      <td>45</td>\n      <td>0</td>\n      <td>0.0</td>\n    </tr>\n    <tr>\n      <th>4/20/1998</th>\n      <td>1.8</td>\n      <td>0.3</td>\n      <td>0.1</td>\n      <td>0.1</td>\n      <td>0.1</td>\n      <td>0.2</td>\n      <td>0.2</td>\n      <td>0.7</td>\n      <td>0.9</td>\n      <td>2</td>\n      <td>...</td>\n      <td>0.31</td>\n      <td>20.36</td>\n      <td>2.61</td>\n      <td>5740</td>\n      <td>-3.5</td>\n      <td>30.6</td>\n      <td>10180</td>\n      <td>35</td>\n      <td>0</td>\n      <td>0.0</td>\n    </tr>\n    <tr>\n      <th>4/23/1998</th>\n      <td>0.5</td>\n      <td>0.1</td>\n      <td>0.1</td>\n      <td>0.1</td>\n      <td>0.1</td>\n      <td>0.2</td>\n      <td>0.3</td>\n      <td>0.8</td>\n      <td>1.2</td>\n      <td>1.3</td>\n      <td>...</td>\n      <td>0.14</td>\n      <td>16.78</td>\n      <td>-17.99</td>\n      <td>5680</td>\n      <td>-2.4</td>\n      <td>37.6</td>\n      <td>10195</td>\n      <td>-10</td>\n      <td>0</td>\n      <td>0.0</td>\n    </tr>\n    <tr>\n      <th>4/25/1998</th>\n      <td>3.1</td>\n      <td>2.4</td>\n      <td>2.4</td>\n      <td>3</td>\n      <td>3.4</td>\n      <td>3.4</td>\n      <td>3.9</td>\n      <td>4.5</td>\n      <td>5.5</td>\n      <td>5.5</td>\n      <td>...</td>\n      <td>0.13</td>\n      <td>9.22</td>\n      <td>-5.96</td>\n      <td>5790</td>\n      <td>7.1</td>\n      <td>35.4</td>\n      <td>10165</td>\n      <td>-25</td>\n      <td>0</td>\n      <td>0.0</td>\n    </tr>\n    <tr>\n      <th>...</th>\n      <td>...</td>\n      <td>...</td>\n      <td>...</td>\n      <td>...</td>\n      <td>...</td>\n      <td>...</td>\n      <td>...</td>\n      <td>...</td>\n      <td>...</td>\n      <td>...</td>\n      <td>...</td>\n      <td>...</td>\n      <td>...</td>\n      <td>...</td>\n      <td>...</td>\n      <td>...</td>\n      <td>...</td>\n      <td>...</td>\n      <td>...</td>\n      <td>...</td>\n      <td>...</td>\n    </tr>\n    <tr>\n      <th>8/4/2004</th>\n      <td>0.6</td>\n      <td>1.2</td>\n      <td>0.8</td>\n      <td>0.4</td>\n      <td>0.4</td>\n      <td>0.4</td>\n      <td>0.5</td>\n      <td>2.4</td>\n      <td>2.7</td>\n      <td>2.3</td>\n      <td>...</td>\n      <td>0.13</td>\n      <td>-8.99</td>\n      <td>-8.24</td>\n      <td>5895</td>\n      <td>20.55</td>\n      <td>33.3</td>\n      <td>10115</td>\n      <td>-10</td>\n      <td>0</td>\n      <td>0.0</td>\n    </tr>\n    <tr>\n      <th>8/17/2004</th>\n      <td>0.4</td>\n      <td>0.1</td>\n      <td>0.3</td>\n      <td>0.5</td>\n      <td>0.5</td>\n      <td>0.5</td>\n      <td>0.5</td>\n      <td>1.3</td>\n      <td>1.6</td>\n      <td>1.6</td>\n      <td>...</td>\n      <td>0.31</td>\n      <td>?</td>\n      <td>?</td>\n      <td>5895</td>\n      <td>5.3</td>\n      <td>35</td>\n      <td>10195</td>\n      <td>-10</td>\n      <td>0</td>\n      <td>0.0</td>\n    </tr>\n    <tr>\n      <th>9/2/2004</th>\n      <td>0.4</td>\n      <td>0.8</td>\n      <td>0.8</td>\n      <td>0.8</td>\n      <td>0.8</td>\n      <td>1.2</td>\n      <td>1.2</td>\n      <td>1.5</td>\n      <td>1.9</td>\n      <td>1.8</td>\n      <td>...</td>\n      <td>0.44</td>\n      <td>4.42</td>\n      <td>2.42</td>\n      <td>5880</td>\n      <td>8.9</td>\n      <td>42.4</td>\n      <td>10155</td>\n      <td>-25</td>\n      <td>1.19</td>\n      <td>0.0</td>\n    </tr>\n    <tr>\n      <th>9/29/2004</th>\n      <td>0.1</td>\n      <td>0.3</td>\n      <td>1</td>\n      <td>0.5</td>\n      <td>0.4</td>\n      <td>0.4</td>\n      <td>0.5</td>\n      <td>1</td>\n      <td>1.1</td>\n      <td>1.1</td>\n      <td>...</td>\n      <td>0.07</td>\n      <td>14.12</td>\n      <td>6.61</td>\n      <td>5835</td>\n      <td>20.2</td>\n      <td>36.4</td>\n      <td>10150</td>\n      <td>25</td>\n      <td>0</td>\n      <td>0.0</td>\n    </tr>\n    <tr>\n      <th>9/30/2004</th>\n      <td>0.4</td>\n      <td>0.9</td>\n      <td>1.1</td>\n      <td>1</td>\n      <td>1.1</td>\n      <td>1</td>\n      <td>1.3</td>\n      <td>1.7</td>\n      <td>2.2</td>\n      <td>2.5</td>\n      <td>...</td>\n      <td>0.04</td>\n      <td>?</td>\n      <td>?</td>\n      <td>5830</td>\n      <td>11.7</td>\n      <td>28.4</td>\n      <td>10140</td>\n      <td>-10</td>\n      <td>0</td>\n      <td>0.0</td>\n    </tr>\n  </tbody>\n</table>\n<p>101 rows × 73 columns</p>\n</div>"
     },
     "metadata": {}
    }
   ],
   "execution_count": null
  },
  {
   "cell_type": "code",
   "metadata": {
    "tags": [],
    "cell_id": "00004-b63a044d-f76a-43f6-8dae-302409d7cda0",
    "deepnote_to_be_reexecuted": true,
    "source_hash": "f62f8bad",
    "execution_start": 1636795404302,
    "execution_millis": 103,
    "deepnote_cell_type": "code"
   },
   "source": "# check which elements are different\ndiff_elements = set()\nfor row in diff.index:\n    try:\n        _sample = onehr.loc[row,:].eq(eighthr.loc[row,:])\n        diff_elements.add(np.where(_sample == False)[0][0])\n    except KeyError:\n        print(f\"Row {row} not in eighthr data\")\nprint(f\"Column(s) containing different values: {onehr.columns[list(diff_elements)]}\")",
   "outputs": [
    {
     "name": "stdout",
     "text": "Row 6/10/1998 not in eighthr data\nRow 6/30/1999 not in eighthr data\nColumn(s) containing different values: Index(['y'], dtype='object')\n",
     "output_type": "stream"
    }
   ],
   "execution_count": null
  },
  {
   "cell_type": "markdown",
   "source": "<a style='text-decoration:none;line-height:16px;display:flex;color:#5B5B62;padding:10px;justify-content:end;' href='https://deepnote.com?utm_source=created-in-deepnote-cell&projectId=89f06f1a-225f-4230-8c62-417ce89cf8e1' target=\"_blank\">\n<img alt='Created in deepnote.com' style='display:inline;max-height:16px;margin:0px;margin-right:7.5px;' src='data:image/svg+xml;base64,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' > </img>\nCreated in <span style='font-weight:600;margin-left:4px;'>Deepnote</span></a>",
   "metadata": {
    "tags": [],
    "created_in_deepnote_cell": true,
    "deepnote_cell_type": "markdown"
   }
  }
 ],
 "nbformat": 4,
 "nbformat_minor": 2,
 "metadata": {
  "orig_nbformat": 2,
  "deepnote": {
   "is_reactive": false
  },
  "deepnote_notebook_id": "10f53677-0dec-4e29-b53f-a7c4a9a4b1bf",
  "deepnote_execution_queue": []
 }
}