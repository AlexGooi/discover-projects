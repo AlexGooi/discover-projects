{
 "cells": [
  {
   "cell_type": "markdown",
   "metadata": {
    "colab_type": "text",
    "id": "view-in-github"
   },
   "source": [
    "<a href=\"https://colab.research.google.com/github/dkapitan/jads-discover-projects/blob/main/ames-housing/homlr-chapter-4-linear-regression.ipynb\" target=\"_parent\"><img src=\"https://colab.research.google.com/assets/colab-badge.svg\" alt=\"Open In Colab\"/></a>"
   ]
  },
  {
   "cell_type": "code",
   "execution_count": 5,
   "metadata": {
    "colab": {
     "base_uri": "https://localhost:8080/"
    },
    "id": "s4ngkltiuJpD",
    "outputId": "37e7c026-0b65-47c6-ee91-650fc91b1acc"
   },
   "outputs": [
    {
     "name": "stdout",
     "output_type": "stream",
     "text": [
      " Connection successful!\n",
      "\n",
      "R is connected to the H2O cluster: \n",
      "    H2O cluster uptime:         1 hours 4 minutes \n",
      "    H2O cluster timezone:       Europe/Amsterdam \n",
      "    H2O data parsing timezone:  UTC \n",
      "    H2O cluster version:        3.32.0.1 \n",
      "    H2O cluster version age:    20 days  \n",
      "    H2O cluster name:           H2O_started_from_R_dkapitan_fay557 \n",
      "    H2O cluster total nodes:    1 \n",
      "    H2O cluster total memory:   3.31 GB \n",
      "    H2O cluster total cores:    8 \n",
      "    H2O cluster allowed cores:  8 \n",
      "    H2O cluster healthy:        TRUE \n",
      "    H2O Connection ip:          localhost \n",
      "    H2O Connection port:        54321 \n",
      "    H2O Connection proxy:       NA \n",
      "    H2O Internal Security:      FALSE \n",
      "    H2O API Extensions:         Amazon S3, XGBoost, Algos, AutoML, Core V3, TargetEncoder, Core V4 \n",
      "    R Version:                  R version 4.0.3 (2020-10-10) \n",
      "\n"
     ]
    }
   ],
   "source": [
    "# install packages for Colab\n",
    "# install.packages(c(\"rsample\", \"caret\", \"vip\", \"h2o\", \"AmesHousing\", \"viridis\", \"broom\"))\n",
    "\n",
    "# Helper packages\n",
    "library(rsample)   # for creating our train-test splits\n",
    "library(recipes)   # for minor feature engineering tasks\n",
    "\n",
    "# Modeling packages\n",
    "library(h2o)       # for fitting stacked models\n",
    "h2o.no_progress()  # turn off h2o progress bars\n",
    "h2o.init()         # launch h2o"
   ]
  },
  {
   "cell_type": "markdown",
   "metadata": {
    "id": "y98HDXCdwo8V"
   },
   "source": [
    "# Workflow using `h2o`"
   ]
  },
  {
   "cell_type": "code",
   "execution_count": 6,
   "metadata": {
    "id": "S85NxfuYy3Re"
   },
   "outputs": [],
   "source": [
    "# Load and split the Ames housing data\n",
    "ames <- AmesHousing::make_ames()\n",
    "set.seed(123)  # for reproducibility\n",
    "split <- initial_split(ames, strata = \"Sale_Price\")\n",
    "ames_train <- training(split)\n",
    "ames_test <- testing(split)\n",
    "\n",
    "# Make sure we have consistent categorical levels\n",
    "blueprint <- recipe(Sale_Price ~ ., data = ames_train) %>%\n",
    "  step_other(all_nominal(), threshold = 0.005)\n",
    "\n",
    "# Create training & test sets for h2o\n",
    "train_h2o <- prep(blueprint, training = ames_train, retain = TRUE) %>%\n",
    "  juice() %>%\n",
    "  as.h2o()\n",
    "test_h2o <- prep(blueprint, training = ames_train) %>%\n",
    "  bake(new_data = ames_test) %>%\n",
    "  as.h2o()\n",
    "\n",
    "# Get response and feature names\n",
    "Y <- \"Sale_Price\"\n",
    "X <- setdiff(names(ames_train), Y)"
   ]
  },
  {
   "cell_type": "code",
   "execution_count": null,
   "metadata": {},
   "outputs": [],
   "source": [
    "# Train & cross-validate a GLM model\n",
    "best_glm <- h2o.glm(\n",
    "  x = X, y = Y, training_frame = train_h2o, alpha = 0.1,\n",
    "  remove_collinear_columns = TRUE, nfolds = 10, fold_assignment = \"Modulo\",\n",
    "  keep_cross_validation_predictions = TRUE, seed = 123\n",
    ")\n",
    "\n",
    "# Train & cross-validate a RF model\n",
    "best_rf <- h2o.randomForest(\n",
    "  x = X, y = Y, training_frame = train_h2o, ntrees = 1000, mtries = 20,\n",
    "  max_depth = 30, min_rows = 1, sample_rate = 0.8, nfolds = 10,\n",
    "  fold_assignment = \"Modulo\", keep_cross_validation_predictions = TRUE,\n",
    "  seed = 123, stopping_rounds = 50, stopping_metric = \"RMSE\",\n",
    "  stopping_tolerance = 0\n",
    ")\n",
    "\n",
    "# Train & cross-validate a GBM model\n",
    "best_gbm <- h2o.gbm(\n",
    "  x = X, y = Y, training_frame = train_h2o, ntrees = 5000, learn_rate = 0.01,\n",
    "  max_depth = 7, min_rows = 5, sample_rate = 0.8, nfolds = 10,\n",
    "  fold_assignment = \"Modulo\", keep_cross_validation_predictions = TRUE,\n",
    "  seed = 123, stopping_rounds = 50, stopping_metric = \"RMSE\",\n",
    "  stopping_tolerance = 0\n",
    ")"
   ]
  },
  {
   "cell_type": "code",
   "execution_count": 12,
   "metadata": {},
   "outputs": [],
   "source": [
    "# Train & cross-validate an XGBoost model\n",
    "best_xgb <- h2o.xgboost(\n",
    "  x = X, y = Y, training_frame = train_h2o, ntrees = 5000, learn_rate = 0.05,\n",
    "  max_depth = 3, min_rows = 3, sample_rate = 0.8, categorical_encoding = \"auto\",\n",
    "  nfolds = 10, fold_assignment = \"Modulo\", \n",
    "  keep_cross_validation_predictions = TRUE, seed = 123, stopping_rounds = 50,\n",
    "  stopping_metric = \"RMSE\", stopping_tolerance = 0\n",
    ")"
   ]
  },
  {
   "cell_type": "code",
   "execution_count": 13,
   "metadata": {},
   "outputs": [],
   "source": [
    "# Train a stacked tree ensemble\n",
    "ensemble_tree <- h2o.stackedEnsemble(\n",
    "  x = X, y = Y, training_frame = train_h2o, model_id = \"my_tree_ensemble\",\n",
    "  base_models = list(best_glm, best_rf, best_gbm, best_xgb),\n",
    "  metalearner_algorithm = \"drf\"\n",
    ")"
   ]
  },
  {
   "cell_type": "code",
   "execution_count": 15,
   "metadata": {},
   "outputs": [
    {
     "data": {
      "text/html": [
       "<style>\n",
       ".list-inline {list-style: none; margin:0; padding: 0}\n",
       ".list-inline>li {display: inline-block}\n",
       ".list-inline>li:not(:last-child)::after {content: \"\\00b7\"; padding: 0 .5ex}\n",
       "</style>\n",
       "<ol class=list-inline><li>36834.0654951234</li><li>22767.3680526872</li><li>19323.9537038996</li><li>19394.301216111</li></ol>\n"
      ],
      "text/latex": [
       "\\begin{enumerate*}\n",
       "\\item 36834.0654951234\n",
       "\\item 22767.3680526872\n",
       "\\item 19323.9537038996\n",
       "\\item 19394.301216111\n",
       "\\end{enumerate*}\n"
      ],
      "text/markdown": [
       "1. 36834.0654951234\n",
       "2. 22767.3680526872\n",
       "3. 19323.9537038996\n",
       "4. 19394.301216111\n",
       "\n",
       "\n"
      ],
      "text/plain": [
       "[1] 36834.07 22767.37 19323.95 19394.30"
      ]
     },
     "metadata": {},
     "output_type": "display_data"
    },
    {
     "data": {
      "text/plain": [
       "H2ORegressionMetrics: stackedensemble\n",
       "\n",
       "MSE:  378457484\n",
       "RMSE:  19453.98\n",
       "MAE:  13269.32\n",
       "RMSLE:  0.1241702\n",
       "Mean Residual Deviance :  378457484\n"
      ]
     },
     "metadata": {},
     "output_type": "display_data"
    }
   ],
   "source": [
    "# Get results from base learners\n",
    "get_rmse <- function(model) {\n",
    "  results <- h2o.performance(model, newdata = test_h2o)\n",
    "  results@metrics$RMSE\n",
    "}\n",
    "list(best_glm, best_rf, best_gbm, best_xgb) %>%\n",
    "  purrr::map_dbl(get_rmse)\n",
    "## [1] 30024.67 23075.24 20859.92 21391.20\n",
    "\n",
    "# Stacked results\n",
    "h2o.performance(ensemble_tree, newdata = test_h2o)"
   ]
  },
  {
   "cell_type": "code",
   "execution_count": null,
   "metadata": {},
   "outputs": [],
   "source": []
  }
 ],
 "metadata": {
  "colab": {
   "authorship_tag": "ABX9TyM6UdgkYXoYjZnFIESXLFBA",
   "include_colab_link": true,
   "name": "homlr-chapter-4-linear-regression.ipynb",
   "provenance": [],
   "toc_visible": true
  },
  "hide_input": false,
  "kernelspec": {
   "display_name": "R",
   "language": "R",
   "name": "ir"
  },
  "language_info": {
   "codemirror_mode": "r",
   "file_extension": ".r",
   "mimetype": "text/x-r-source",
   "name": "R",
   "pygments_lexer": "r",
   "version": "4.0.3"
  },
  "toc": {
   "base_numbering": 1,
   "nav_menu": {},
   "number_sections": true,
   "sideBar": true,
   "skip_h1_title": true,
   "title_cell": "Table of Contents",
   "title_sidebar": "Contents",
   "toc_cell": false,
   "toc_position": {},
   "toc_section_display": true,
   "toc_window_display": true
  }
 },
 "nbformat": 4,
 "nbformat_minor": 1
}
