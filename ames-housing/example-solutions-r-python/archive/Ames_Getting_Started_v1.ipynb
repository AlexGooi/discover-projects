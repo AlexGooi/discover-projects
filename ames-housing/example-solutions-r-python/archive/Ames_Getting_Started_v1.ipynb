{
  "cells": [
    {
      "cell_type": "markdown",
      "metadata": {},
      "source": [
        "# Getting started with Ames housing dataset on Google Colab"
      ]
    },
    {
      "cell_type": "markdown",
      "metadata": {
        "id": "CXL64K5Ton3o"
      },
      "source": [
        "## Some useful short-cuts\n",
        "Comment out code (win): CTRL + /\n",
        "\n",
        "Comment out code (OSX): CMD + /\n",
        "\n",
        "Execute cell (win/OSX): SHFT + Enter"
      ]
    },
    {
      "cell_type": "markdown",
      "metadata": {
        "id": "5xHqofBMthpc"
      },
      "source": [
        "## Import libraries"
      ]
    },
    {
      "cell_type": "code",
      "execution_count": 30,
      "metadata": {
        "id": "zjVXjSe5lRsk"
      },
      "outputs": [],
      "source": [
        "# Main libraries.\n",
        "import pandas as pd\n",
        "import numpy as np\n",
        "import matplotlib.pyplot as plt\n",
        "\n",
        "# Library to connect Colab with Google Drive.\n",
        "from google.colab import drive"
      ]
    },
    {
      "cell_type": "markdown",
      "metadata": {
        "id": "anire_DHto-x"
      },
      "source": [
        "## Mount Google Drive to Colab"
      ]
    },
    {
      "cell_type": "code",
      "execution_count": 36,
      "metadata": {
        "colab": {
          "base_uri": "https://localhost:8080/"
        },
        "id": "UStoTiaNV5KT",
        "outputId": "277c07bc-8a9d-4508-cfb8-5aae8601cde3"
      },
      "outputs": [
        {
          "name": "stdout",
          "output_type": "stream",
          "text": [
            "Drive already mounted at /content/drive; to attempt to forcibly remount, call drive.mount(\"/content/drive\", force_remount=True).\n"
          ]
        }
      ],
      "source": [
        "drive.mount('/content/drive')"
      ]
    },
    {
      "cell_type": "markdown",
      "metadata": {
        "id": "HDjfHm4Kph_P"
      },
      "source": [
        "## Load 'Ames Housing' Data - demonstrating three different ways\n",
        "\n",
        "1 - Click on the 'AmesHousing.csv' file in the ['ames-housing'](https://github.com/jads-nl/discover-projects/tree/main/ames-housing) repo on GitHub. Click on the **Raw** button. Copy the link in the URL bar. Paste the link in the Pandas function 'read_csv()': \n"
      ]
    },
    {
      "cell_type": "code",
      "execution_count": 32,
      "metadata": {
        "id": "elo5-9cVxJYk"
      },
      "outputs": [],
      "source": [
        "#df_original = pd.read_csv('https://raw.githubusercontent.com/jads-nl/discover-projects/main/ames-housing/AmesHousing.csv')"
      ]
    },
    {
      "cell_type": "markdown",
      "metadata": {
        "id": "iHSn_9ZSzZz6"
      },
      "source": [
        "2 - Right click on the 'AmesHousing.csv' file in the ['ames-housing'](https://github.com/jads-nl/discover-projects/tree/main/ames-housing) repo on GitHub, and copy link to the file. Paste the link in the Pandas function 'read_csv' and add '?raw=True': \n"
      ]
    },
    {
      "cell_type": "code",
      "execution_count": 33,
      "metadata": {
        "id": "kQA1AElFzS4k"
      },
      "outputs": [],
      "source": [
        "#df_original = pd.read_csv('https://github.com/jads-nl/discover-projects/blob/main/ames-housing/AmesHousing.csv'+'?raw=True')"
      ]
    },
    {
      "cell_type": "markdown",
      "metadata": {
        "id": "8SLs4rP65-El"
      },
      "source": [
        "3 - In case the csv file is located on your Google Drive and you have mounted your GoogleDrive to Colab, add a link to the concerned file in the Pandas function 'read_csv'. Of course, in your case the csv file will most likely have a different path:"
      ]
    },
    {
      "cell_type": "code",
      "execution_count": 38,
      "metadata": {
        "id": "JpdGqseI59qX"
      },
      "outputs": [],
      "source": [
        "df_original = pd.read_csv('drive/MyDrive/Colab Notebooks/2021 05 - Foundation II/AmesHousing.csv')"
      ]
    },
    {
      "cell_type": "markdown",
      "metadata": {
        "id": "fyBac4Jl6vnN"
      },
      "source": [
        "Make copy of original data, so you have the original data for reference later if needed."
      ]
    },
    {
      "cell_type": "code",
      "execution_count": 39,
      "metadata": {
        "id": "BgcNtl1u6ugk"
      },
      "outputs": [],
      "source": [
        "df = df_original.copy()"
      ]
    },
    {
      "cell_type": "markdown",
      "metadata": {
        "id": "v5WDpD3ircs1"
      },
      "source": [
        "## Few basic functions to check the data"
      ]
    },
    {
      "cell_type": "code",
      "execution_count": 40,
      "metadata": {
        "colab": {
          "base_uri": "https://localhost:8080/"
        },
        "id": "6_s235qZ6A1k",
        "outputId": "160ad899-2e99-42aa-9d24-0a6e1a7ef074"
      },
      "outputs": [
        {
          "data": {
            "text/plain": [
              "(2930, 82)"
            ]
          },
          "execution_count": 40,
          "metadata": {},
          "output_type": "execute_result"
        }
      ],
      "source": [
        "# Show dimensions of the data frame.\n",
        "df.shape"
      ]
    },
    {
      "cell_type": "code",
      "execution_count": 41,
      "metadata": {
        "id": "n-Y_Jyqa8hkG"
      },
      "outputs": [],
      "source": [
        "# Show key information of each of the columns in the data frame\n",
        "#df.info()"
      ]
    },
    {
      "cell_type": "code",
      "execution_count": 42,
      "metadata": {
        "colab": {
          "base_uri": "https://localhost:8080/",
          "height": 334
        },
        "id": "BrPbcB4H9L32",
        "outputId": "b03088c7-112b-48f5-b43d-f21abc6c025b"
      },
      "outputs": [
        {
          "data": {
            "text/html": [
              "<div>\n",
              "<style scoped>\n",
              "    .dataframe tbody tr th:only-of-type {\n",
              "        vertical-align: middle;\n",
              "    }\n",
              "\n",
              "    .dataframe tbody tr th {\n",
              "        vertical-align: top;\n",
              "    }\n",
              "\n",
              "    .dataframe thead th {\n",
              "        text-align: right;\n",
              "    }\n",
              "</style>\n",
              "<table border=\"1\" class=\"dataframe\">\n",
              "  <thead>\n",
              "    <tr style=\"text-align: right;\">\n",
              "      <th></th>\n",
              "      <th>Order</th>\n",
              "      <th>PID</th>\n",
              "      <th>MS SubClass</th>\n",
              "      <th>Lot Frontage</th>\n",
              "      <th>Lot Area</th>\n",
              "      <th>Overall Qual</th>\n",
              "      <th>Overall Cond</th>\n",
              "      <th>Year Built</th>\n",
              "      <th>Year Remod/Add</th>\n",
              "      <th>Mas Vnr Area</th>\n",
              "      <th>BsmtFin SF 1</th>\n",
              "      <th>BsmtFin SF 2</th>\n",
              "      <th>Bsmt Unf SF</th>\n",
              "      <th>Total Bsmt SF</th>\n",
              "      <th>1st Flr SF</th>\n",
              "      <th>2nd Flr SF</th>\n",
              "      <th>Low Qual Fin SF</th>\n",
              "      <th>Gr Liv Area</th>\n",
              "      <th>Bsmt Full Bath</th>\n",
              "      <th>Bsmt Half Bath</th>\n",
              "      <th>Full Bath</th>\n",
              "      <th>Half Bath</th>\n",
              "      <th>Bedroom AbvGr</th>\n",
              "      <th>Kitchen AbvGr</th>\n",
              "      <th>TotRms AbvGrd</th>\n",
              "      <th>Fireplaces</th>\n",
              "      <th>Garage Yr Blt</th>\n",
              "      <th>Garage Cars</th>\n",
              "      <th>Garage Area</th>\n",
              "      <th>Wood Deck SF</th>\n",
              "      <th>Open Porch SF</th>\n",
              "      <th>Enclosed Porch</th>\n",
              "      <th>3Ssn Porch</th>\n",
              "      <th>Screen Porch</th>\n",
              "      <th>Pool Area</th>\n",
              "      <th>Misc Val</th>\n",
              "      <th>Mo Sold</th>\n",
              "      <th>Yr Sold</th>\n",
              "      <th>SalePrice</th>\n",
              "    </tr>\n",
              "  </thead>\n",
              "  <tbody>\n",
              "    <tr>\n",
              "      <th>count</th>\n",
              "      <td>2930.00000</td>\n",
              "      <td>2.930000e+03</td>\n",
              "      <td>2930.000000</td>\n",
              "      <td>2440.000000</td>\n",
              "      <td>2930.000000</td>\n",
              "      <td>2930.000000</td>\n",
              "      <td>2930.000000</td>\n",
              "      <td>2930.000000</td>\n",
              "      <td>2930.000000</td>\n",
              "      <td>2907.000000</td>\n",
              "      <td>2929.000000</td>\n",
              "      <td>2929.000000</td>\n",
              "      <td>2929.000000</td>\n",
              "      <td>2929.000000</td>\n",
              "      <td>2930.000000</td>\n",
              "      <td>2930.000000</td>\n",
              "      <td>2930.000000</td>\n",
              "      <td>2930.000000</td>\n",
              "      <td>2928.000000</td>\n",
              "      <td>2928.000000</td>\n",
              "      <td>2930.000000</td>\n",
              "      <td>2930.000000</td>\n",
              "      <td>2930.000000</td>\n",
              "      <td>2930.000000</td>\n",
              "      <td>2930.000000</td>\n",
              "      <td>2930.000000</td>\n",
              "      <td>2771.000000</td>\n",
              "      <td>2929.000000</td>\n",
              "      <td>2929.000000</td>\n",
              "      <td>2930.000000</td>\n",
              "      <td>2930.000000</td>\n",
              "      <td>2930.000000</td>\n",
              "      <td>2930.000000</td>\n",
              "      <td>2930.000000</td>\n",
              "      <td>2930.000000</td>\n",
              "      <td>2930.000000</td>\n",
              "      <td>2930.000000</td>\n",
              "      <td>2930.000000</td>\n",
              "      <td>2930.000000</td>\n",
              "    </tr>\n",
              "    <tr>\n",
              "      <th>mean</th>\n",
              "      <td>1465.50000</td>\n",
              "      <td>7.144645e+08</td>\n",
              "      <td>57.387372</td>\n",
              "      <td>69.224590</td>\n",
              "      <td>10147.921843</td>\n",
              "      <td>6.094881</td>\n",
              "      <td>5.563140</td>\n",
              "      <td>1971.356314</td>\n",
              "      <td>1984.266553</td>\n",
              "      <td>101.896801</td>\n",
              "      <td>442.629566</td>\n",
              "      <td>49.722431</td>\n",
              "      <td>559.262547</td>\n",
              "      <td>1051.614544</td>\n",
              "      <td>1159.557679</td>\n",
              "      <td>335.455973</td>\n",
              "      <td>4.676792</td>\n",
              "      <td>1499.690444</td>\n",
              "      <td>0.431352</td>\n",
              "      <td>0.061134</td>\n",
              "      <td>1.566553</td>\n",
              "      <td>0.379522</td>\n",
              "      <td>2.854266</td>\n",
              "      <td>1.044369</td>\n",
              "      <td>6.443003</td>\n",
              "      <td>0.599317</td>\n",
              "      <td>1978.132443</td>\n",
              "      <td>1.766815</td>\n",
              "      <td>472.819734</td>\n",
              "      <td>93.751877</td>\n",
              "      <td>47.533447</td>\n",
              "      <td>23.011604</td>\n",
              "      <td>2.592491</td>\n",
              "      <td>16.002048</td>\n",
              "      <td>2.243345</td>\n",
              "      <td>50.635154</td>\n",
              "      <td>6.216041</td>\n",
              "      <td>2007.790444</td>\n",
              "      <td>180796.060068</td>\n",
              "    </tr>\n",
              "    <tr>\n",
              "      <th>std</th>\n",
              "      <td>845.96247</td>\n",
              "      <td>1.887308e+08</td>\n",
              "      <td>42.638025</td>\n",
              "      <td>23.365335</td>\n",
              "      <td>7880.017759</td>\n",
              "      <td>1.411026</td>\n",
              "      <td>1.111537</td>\n",
              "      <td>30.245361</td>\n",
              "      <td>20.860286</td>\n",
              "      <td>179.112611</td>\n",
              "      <td>455.590839</td>\n",
              "      <td>169.168476</td>\n",
              "      <td>439.494153</td>\n",
              "      <td>440.615067</td>\n",
              "      <td>391.890885</td>\n",
              "      <td>428.395715</td>\n",
              "      <td>46.310510</td>\n",
              "      <td>505.508887</td>\n",
              "      <td>0.524820</td>\n",
              "      <td>0.245254</td>\n",
              "      <td>0.552941</td>\n",
              "      <td>0.502629</td>\n",
              "      <td>0.827731</td>\n",
              "      <td>0.214076</td>\n",
              "      <td>1.572964</td>\n",
              "      <td>0.647921</td>\n",
              "      <td>25.528411</td>\n",
              "      <td>0.760566</td>\n",
              "      <td>215.046549</td>\n",
              "      <td>126.361562</td>\n",
              "      <td>67.483400</td>\n",
              "      <td>64.139059</td>\n",
              "      <td>25.141331</td>\n",
              "      <td>56.087370</td>\n",
              "      <td>35.597181</td>\n",
              "      <td>566.344288</td>\n",
              "      <td>2.714492</td>\n",
              "      <td>1.316613</td>\n",
              "      <td>79886.692357</td>\n",
              "    </tr>\n",
              "    <tr>\n",
              "      <th>min</th>\n",
              "      <td>1.00000</td>\n",
              "      <td>5.263011e+08</td>\n",
              "      <td>20.000000</td>\n",
              "      <td>21.000000</td>\n",
              "      <td>1300.000000</td>\n",
              "      <td>1.000000</td>\n",
              "      <td>1.000000</td>\n",
              "      <td>1872.000000</td>\n",
              "      <td>1950.000000</td>\n",
              "      <td>0.000000</td>\n",
              "      <td>0.000000</td>\n",
              "      <td>0.000000</td>\n",
              "      <td>0.000000</td>\n",
              "      <td>0.000000</td>\n",
              "      <td>334.000000</td>\n",
              "      <td>0.000000</td>\n",
              "      <td>0.000000</td>\n",
              "      <td>334.000000</td>\n",
              "      <td>0.000000</td>\n",
              "      <td>0.000000</td>\n",
              "      <td>0.000000</td>\n",
              "      <td>0.000000</td>\n",
              "      <td>0.000000</td>\n",
              "      <td>0.000000</td>\n",
              "      <td>2.000000</td>\n",
              "      <td>0.000000</td>\n",
              "      <td>1895.000000</td>\n",
              "      <td>0.000000</td>\n",
              "      <td>0.000000</td>\n",
              "      <td>0.000000</td>\n",
              "      <td>0.000000</td>\n",
              "      <td>0.000000</td>\n",
              "      <td>0.000000</td>\n",
              "      <td>0.000000</td>\n",
              "      <td>0.000000</td>\n",
              "      <td>0.000000</td>\n",
              "      <td>1.000000</td>\n",
              "      <td>2006.000000</td>\n",
              "      <td>12789.000000</td>\n",
              "    </tr>\n",
              "    <tr>\n",
              "      <th>25%</th>\n",
              "      <td>733.25000</td>\n",
              "      <td>5.284770e+08</td>\n",
              "      <td>20.000000</td>\n",
              "      <td>58.000000</td>\n",
              "      <td>7440.250000</td>\n",
              "      <td>5.000000</td>\n",
              "      <td>5.000000</td>\n",
              "      <td>1954.000000</td>\n",
              "      <td>1965.000000</td>\n",
              "      <td>0.000000</td>\n",
              "      <td>0.000000</td>\n",
              "      <td>0.000000</td>\n",
              "      <td>219.000000</td>\n",
              "      <td>793.000000</td>\n",
              "      <td>876.250000</td>\n",
              "      <td>0.000000</td>\n",
              "      <td>0.000000</td>\n",
              "      <td>1126.000000</td>\n",
              "      <td>0.000000</td>\n",
              "      <td>0.000000</td>\n",
              "      <td>1.000000</td>\n",
              "      <td>0.000000</td>\n",
              "      <td>2.000000</td>\n",
              "      <td>1.000000</td>\n",
              "      <td>5.000000</td>\n",
              "      <td>0.000000</td>\n",
              "      <td>1960.000000</td>\n",
              "      <td>1.000000</td>\n",
              "      <td>320.000000</td>\n",
              "      <td>0.000000</td>\n",
              "      <td>0.000000</td>\n",
              "      <td>0.000000</td>\n",
              "      <td>0.000000</td>\n",
              "      <td>0.000000</td>\n",
              "      <td>0.000000</td>\n",
              "      <td>0.000000</td>\n",
              "      <td>4.000000</td>\n",
              "      <td>2007.000000</td>\n",
              "      <td>129500.000000</td>\n",
              "    </tr>\n",
              "    <tr>\n",
              "      <th>50%</th>\n",
              "      <td>1465.50000</td>\n",
              "      <td>5.354536e+08</td>\n",
              "      <td>50.000000</td>\n",
              "      <td>68.000000</td>\n",
              "      <td>9436.500000</td>\n",
              "      <td>6.000000</td>\n",
              "      <td>5.000000</td>\n",
              "      <td>1973.000000</td>\n",
              "      <td>1993.000000</td>\n",
              "      <td>0.000000</td>\n",
              "      <td>370.000000</td>\n",
              "      <td>0.000000</td>\n",
              "      <td>466.000000</td>\n",
              "      <td>990.000000</td>\n",
              "      <td>1084.000000</td>\n",
              "      <td>0.000000</td>\n",
              "      <td>0.000000</td>\n",
              "      <td>1442.000000</td>\n",
              "      <td>0.000000</td>\n",
              "      <td>0.000000</td>\n",
              "      <td>2.000000</td>\n",
              "      <td>0.000000</td>\n",
              "      <td>3.000000</td>\n",
              "      <td>1.000000</td>\n",
              "      <td>6.000000</td>\n",
              "      <td>1.000000</td>\n",
              "      <td>1979.000000</td>\n",
              "      <td>2.000000</td>\n",
              "      <td>480.000000</td>\n",
              "      <td>0.000000</td>\n",
              "      <td>27.000000</td>\n",
              "      <td>0.000000</td>\n",
              "      <td>0.000000</td>\n",
              "      <td>0.000000</td>\n",
              "      <td>0.000000</td>\n",
              "      <td>0.000000</td>\n",
              "      <td>6.000000</td>\n",
              "      <td>2008.000000</td>\n",
              "      <td>160000.000000</td>\n",
              "    </tr>\n",
              "    <tr>\n",
              "      <th>75%</th>\n",
              "      <td>2197.75000</td>\n",
              "      <td>9.071811e+08</td>\n",
              "      <td>70.000000</td>\n",
              "      <td>80.000000</td>\n",
              "      <td>11555.250000</td>\n",
              "      <td>7.000000</td>\n",
              "      <td>6.000000</td>\n",
              "      <td>2001.000000</td>\n",
              "      <td>2004.000000</td>\n",
              "      <td>164.000000</td>\n",
              "      <td>734.000000</td>\n",
              "      <td>0.000000</td>\n",
              "      <td>802.000000</td>\n",
              "      <td>1302.000000</td>\n",
              "      <td>1384.000000</td>\n",
              "      <td>703.750000</td>\n",
              "      <td>0.000000</td>\n",
              "      <td>1742.750000</td>\n",
              "      <td>1.000000</td>\n",
              "      <td>0.000000</td>\n",
              "      <td>2.000000</td>\n",
              "      <td>1.000000</td>\n",
              "      <td>3.000000</td>\n",
              "      <td>1.000000</td>\n",
              "      <td>7.000000</td>\n",
              "      <td>1.000000</td>\n",
              "      <td>2002.000000</td>\n",
              "      <td>2.000000</td>\n",
              "      <td>576.000000</td>\n",
              "      <td>168.000000</td>\n",
              "      <td>70.000000</td>\n",
              "      <td>0.000000</td>\n",
              "      <td>0.000000</td>\n",
              "      <td>0.000000</td>\n",
              "      <td>0.000000</td>\n",
              "      <td>0.000000</td>\n",
              "      <td>8.000000</td>\n",
              "      <td>2009.000000</td>\n",
              "      <td>213500.000000</td>\n",
              "    </tr>\n",
              "    <tr>\n",
              "      <th>max</th>\n",
              "      <td>2930.00000</td>\n",
              "      <td>1.007100e+09</td>\n",
              "      <td>190.000000</td>\n",
              "      <td>313.000000</td>\n",
              "      <td>215245.000000</td>\n",
              "      <td>10.000000</td>\n",
              "      <td>9.000000</td>\n",
              "      <td>2010.000000</td>\n",
              "      <td>2010.000000</td>\n",
              "      <td>1600.000000</td>\n",
              "      <td>5644.000000</td>\n",
              "      <td>1526.000000</td>\n",
              "      <td>2336.000000</td>\n",
              "      <td>6110.000000</td>\n",
              "      <td>5095.000000</td>\n",
              "      <td>2065.000000</td>\n",
              "      <td>1064.000000</td>\n",
              "      <td>5642.000000</td>\n",
              "      <td>3.000000</td>\n",
              "      <td>2.000000</td>\n",
              "      <td>4.000000</td>\n",
              "      <td>2.000000</td>\n",
              "      <td>8.000000</td>\n",
              "      <td>3.000000</td>\n",
              "      <td>15.000000</td>\n",
              "      <td>4.000000</td>\n",
              "      <td>2207.000000</td>\n",
              "      <td>5.000000</td>\n",
              "      <td>1488.000000</td>\n",
              "      <td>1424.000000</td>\n",
              "      <td>742.000000</td>\n",
              "      <td>1012.000000</td>\n",
              "      <td>508.000000</td>\n",
              "      <td>576.000000</td>\n",
              "      <td>800.000000</td>\n",
              "      <td>17000.000000</td>\n",
              "      <td>12.000000</td>\n",
              "      <td>2010.000000</td>\n",
              "      <td>755000.000000</td>\n",
              "    </tr>\n",
              "  </tbody>\n",
              "</table>\n",
              "</div>"
            ],
            "text/plain": [
              "            Order           PID  ...      Yr Sold      SalePrice\n",
              "count  2930.00000  2.930000e+03  ...  2930.000000    2930.000000\n",
              "mean   1465.50000  7.144645e+08  ...  2007.790444  180796.060068\n",
              "std     845.96247  1.887308e+08  ...     1.316613   79886.692357\n",
              "min       1.00000  5.263011e+08  ...  2006.000000   12789.000000\n",
              "25%     733.25000  5.284770e+08  ...  2007.000000  129500.000000\n",
              "50%    1465.50000  5.354536e+08  ...  2008.000000  160000.000000\n",
              "75%    2197.75000  9.071811e+08  ...  2009.000000  213500.000000\n",
              "max    2930.00000  1.007100e+09  ...  2010.000000  755000.000000\n",
              "\n",
              "[8 rows x 39 columns]"
            ]
          },
          "execution_count": 42,
          "metadata": {},
          "output_type": "execute_result"
        }
      ],
      "source": [
        "# Show statistics of numerical data:\n",
        "df.describe(include=\"number\")"
      ]
    },
    {
      "cell_type": "code",
      "execution_count": 43,
      "metadata": {
        "colab": {
          "base_uri": "https://localhost:8080/",
          "height": 227
        },
        "id": "EC6HUVku8vCV",
        "outputId": "59e113bc-55c5-4a07-a99f-0b5a3116ff63"
      },
      "outputs": [
        {
          "data": {
            "text/html": [
              "<div>\n",
              "<style scoped>\n",
              "    .dataframe tbody tr th:only-of-type {\n",
              "        vertical-align: middle;\n",
              "    }\n",
              "\n",
              "    .dataframe tbody tr th {\n",
              "        vertical-align: top;\n",
              "    }\n",
              "\n",
              "    .dataframe thead th {\n",
              "        text-align: right;\n",
              "    }\n",
              "</style>\n",
              "<table border=\"1\" class=\"dataframe\">\n",
              "  <thead>\n",
              "    <tr style=\"text-align: right;\">\n",
              "      <th></th>\n",
              "      <th>MS Zoning</th>\n",
              "      <th>Street</th>\n",
              "      <th>Alley</th>\n",
              "      <th>Lot Shape</th>\n",
              "      <th>Land Contour</th>\n",
              "      <th>Utilities</th>\n",
              "      <th>Lot Config</th>\n",
              "      <th>Land Slope</th>\n",
              "      <th>Neighborhood</th>\n",
              "      <th>Condition 1</th>\n",
              "      <th>Condition 2</th>\n",
              "      <th>Bldg Type</th>\n",
              "      <th>House Style</th>\n",
              "      <th>Roof Style</th>\n",
              "      <th>Roof Matl</th>\n",
              "      <th>Exterior 1st</th>\n",
              "      <th>Exterior 2nd</th>\n",
              "      <th>Mas Vnr Type</th>\n",
              "      <th>Exter Qual</th>\n",
              "      <th>Exter Cond</th>\n",
              "      <th>Foundation</th>\n",
              "      <th>Bsmt Qual</th>\n",
              "      <th>Bsmt Cond</th>\n",
              "      <th>Bsmt Exposure</th>\n",
              "      <th>BsmtFin Type 1</th>\n",
              "      <th>BsmtFin Type 2</th>\n",
              "      <th>Heating</th>\n",
              "      <th>Heating QC</th>\n",
              "      <th>Central Air</th>\n",
              "      <th>Electrical</th>\n",
              "      <th>Kitchen Qual</th>\n",
              "      <th>Functional</th>\n",
              "      <th>Fireplace Qu</th>\n",
              "      <th>Garage Type</th>\n",
              "      <th>Garage Finish</th>\n",
              "      <th>Garage Qual</th>\n",
              "      <th>Garage Cond</th>\n",
              "      <th>Paved Drive</th>\n",
              "      <th>Pool QC</th>\n",
              "      <th>Fence</th>\n",
              "      <th>Misc Feature</th>\n",
              "      <th>Sale Type</th>\n",
              "      <th>Sale Condition</th>\n",
              "    </tr>\n",
              "  </thead>\n",
              "  <tbody>\n",
              "    <tr>\n",
              "      <th>count</th>\n",
              "      <td>2930</td>\n",
              "      <td>2930</td>\n",
              "      <td>198</td>\n",
              "      <td>2930</td>\n",
              "      <td>2930</td>\n",
              "      <td>2930</td>\n",
              "      <td>2930</td>\n",
              "      <td>2930</td>\n",
              "      <td>2930</td>\n",
              "      <td>2930</td>\n",
              "      <td>2930</td>\n",
              "      <td>2930</td>\n",
              "      <td>2930</td>\n",
              "      <td>2930</td>\n",
              "      <td>2930</td>\n",
              "      <td>2930</td>\n",
              "      <td>2930</td>\n",
              "      <td>2907</td>\n",
              "      <td>2930</td>\n",
              "      <td>2930</td>\n",
              "      <td>2930</td>\n",
              "      <td>2850</td>\n",
              "      <td>2850</td>\n",
              "      <td>2847</td>\n",
              "      <td>2850</td>\n",
              "      <td>2849</td>\n",
              "      <td>2930</td>\n",
              "      <td>2930</td>\n",
              "      <td>2930</td>\n",
              "      <td>2929</td>\n",
              "      <td>2930</td>\n",
              "      <td>2930</td>\n",
              "      <td>1508</td>\n",
              "      <td>2773</td>\n",
              "      <td>2771</td>\n",
              "      <td>2771</td>\n",
              "      <td>2771</td>\n",
              "      <td>2930</td>\n",
              "      <td>13</td>\n",
              "      <td>572</td>\n",
              "      <td>106</td>\n",
              "      <td>2930</td>\n",
              "      <td>2930</td>\n",
              "    </tr>\n",
              "    <tr>\n",
              "      <th>unique</th>\n",
              "      <td>7</td>\n",
              "      <td>2</td>\n",
              "      <td>2</td>\n",
              "      <td>4</td>\n",
              "      <td>4</td>\n",
              "      <td>3</td>\n",
              "      <td>5</td>\n",
              "      <td>3</td>\n",
              "      <td>28</td>\n",
              "      <td>9</td>\n",
              "      <td>8</td>\n",
              "      <td>5</td>\n",
              "      <td>8</td>\n",
              "      <td>6</td>\n",
              "      <td>8</td>\n",
              "      <td>16</td>\n",
              "      <td>17</td>\n",
              "      <td>5</td>\n",
              "      <td>4</td>\n",
              "      <td>5</td>\n",
              "      <td>6</td>\n",
              "      <td>5</td>\n",
              "      <td>5</td>\n",
              "      <td>4</td>\n",
              "      <td>6</td>\n",
              "      <td>6</td>\n",
              "      <td>6</td>\n",
              "      <td>5</td>\n",
              "      <td>2</td>\n",
              "      <td>5</td>\n",
              "      <td>5</td>\n",
              "      <td>8</td>\n",
              "      <td>5</td>\n",
              "      <td>6</td>\n",
              "      <td>3</td>\n",
              "      <td>5</td>\n",
              "      <td>5</td>\n",
              "      <td>3</td>\n",
              "      <td>4</td>\n",
              "      <td>4</td>\n",
              "      <td>5</td>\n",
              "      <td>10</td>\n",
              "      <td>6</td>\n",
              "    </tr>\n",
              "    <tr>\n",
              "      <th>top</th>\n",
              "      <td>RL</td>\n",
              "      <td>Pave</td>\n",
              "      <td>Grvl</td>\n",
              "      <td>Reg</td>\n",
              "      <td>Lvl</td>\n",
              "      <td>AllPub</td>\n",
              "      <td>Inside</td>\n",
              "      <td>Gtl</td>\n",
              "      <td>NAmes</td>\n",
              "      <td>Norm</td>\n",
              "      <td>Norm</td>\n",
              "      <td>1Fam</td>\n",
              "      <td>1Story</td>\n",
              "      <td>Gable</td>\n",
              "      <td>CompShg</td>\n",
              "      <td>VinylSd</td>\n",
              "      <td>VinylSd</td>\n",
              "      <td>None</td>\n",
              "      <td>TA</td>\n",
              "      <td>TA</td>\n",
              "      <td>PConc</td>\n",
              "      <td>TA</td>\n",
              "      <td>TA</td>\n",
              "      <td>No</td>\n",
              "      <td>GLQ</td>\n",
              "      <td>Unf</td>\n",
              "      <td>GasA</td>\n",
              "      <td>Ex</td>\n",
              "      <td>Y</td>\n",
              "      <td>SBrkr</td>\n",
              "      <td>TA</td>\n",
              "      <td>Typ</td>\n",
              "      <td>Gd</td>\n",
              "      <td>Attchd</td>\n",
              "      <td>Unf</td>\n",
              "      <td>TA</td>\n",
              "      <td>TA</td>\n",
              "      <td>Y</td>\n",
              "      <td>Ex</td>\n",
              "      <td>MnPrv</td>\n",
              "      <td>Shed</td>\n",
              "      <td>WD</td>\n",
              "      <td>Normal</td>\n",
              "    </tr>\n",
              "    <tr>\n",
              "      <th>freq</th>\n",
              "      <td>2273</td>\n",
              "      <td>2918</td>\n",
              "      <td>120</td>\n",
              "      <td>1859</td>\n",
              "      <td>2633</td>\n",
              "      <td>2927</td>\n",
              "      <td>2140</td>\n",
              "      <td>2789</td>\n",
              "      <td>443</td>\n",
              "      <td>2522</td>\n",
              "      <td>2900</td>\n",
              "      <td>2425</td>\n",
              "      <td>1481</td>\n",
              "      <td>2321</td>\n",
              "      <td>2887</td>\n",
              "      <td>1026</td>\n",
              "      <td>1015</td>\n",
              "      <td>1752</td>\n",
              "      <td>1799</td>\n",
              "      <td>2549</td>\n",
              "      <td>1310</td>\n",
              "      <td>1283</td>\n",
              "      <td>2616</td>\n",
              "      <td>1906</td>\n",
              "      <td>859</td>\n",
              "      <td>2499</td>\n",
              "      <td>2885</td>\n",
              "      <td>1495</td>\n",
              "      <td>2734</td>\n",
              "      <td>2682</td>\n",
              "      <td>1494</td>\n",
              "      <td>2728</td>\n",
              "      <td>744</td>\n",
              "      <td>1731</td>\n",
              "      <td>1231</td>\n",
              "      <td>2615</td>\n",
              "      <td>2665</td>\n",
              "      <td>2652</td>\n",
              "      <td>4</td>\n",
              "      <td>330</td>\n",
              "      <td>95</td>\n",
              "      <td>2536</td>\n",
              "      <td>2413</td>\n",
              "    </tr>\n",
              "  </tbody>\n",
              "</table>\n",
              "</div>"
            ],
            "text/plain": [
              "       MS Zoning Street Alley  ... Misc Feature Sale Type Sale Condition\n",
              "count       2930   2930   198  ...          106      2930           2930\n",
              "unique         7      2     2  ...            5        10              6\n",
              "top           RL   Pave  Grvl  ...         Shed       WD          Normal\n",
              "freq        2273   2918   120  ...           95      2536           2413\n",
              "\n",
              "[4 rows x 43 columns]"
            ]
          },
          "execution_count": 43,
          "metadata": {},
          "output_type": "execute_result"
        }
      ],
      "source": [
        "df.describe(include=\"object\")"
      ]
    },
    {
      "cell_type": "code",
      "execution_count": 48,
      "metadata": {
        "colab": {
          "base_uri": "https://localhost:8080/",
          "height": 999
        },
        "id": "7AHD2u_n54o0",
        "outputId": "95a2449f-fa4a-49fc-a861-c16352173244"
      },
      "outputs": [
        {
          "data": {
            "text/plain": [
              "<Figure size 2016x720 with 0 Axes>"
            ]
          },
          "metadata": {},
          "output_type": "display_data"
        },
        {
          "data": {
            "image/png": "[encoded data removed]",
            "text/plain": [
              "<Figure size 2016x1440 with 42 Axes>"
            ]
          },
          "metadata": {
            "needs_background": "light"
          },
          "output_type": "display_data"
        }
      ],
      "source": [
        "# Set default figure size.\n",
        "plt.figure(figsize=(28,10))\n",
        "\n",
        "# Show histogram\n",
        "df.hist();"
      ]
    },
    {
      "cell_type": "markdown",
      "metadata": {
        "id": "n76IRAEfBzuf"
      },
      "source": [
        "## Show columns with missing data"
      ]
    },
    {
      "cell_type": "code",
      "execution_count": 54,
      "metadata": {
        "colab": {
          "base_uri": "https://localhost:8080/",
          "height": 669
        },
        "id": "OqNPl5S0AhCO",
        "outputId": "779bf31f-01a3-4987-9625-f50118f34869"
      },
      "outputs": [
        {
          "data": {
            "text/html": [
              "<div>\n",
              "<style scoped>\n",
              "    .dataframe tbody tr th:only-of-type {\n",
              "        vertical-align: middle;\n",
              "    }\n",
              "\n",
              "    .dataframe tbody tr th {\n",
              "        vertical-align: top;\n",
              "    }\n",
              "\n",
              "    .dataframe thead th {\n",
              "        text-align: right;\n",
              "    }\n",
              "</style>\n",
              "<table border=\"1\" class=\"dataframe\">\n",
              "  <thead>\n",
              "    <tr style=\"text-align: right;\">\n",
              "      <th></th>\n",
              "      <th>type</th>\n",
              "      <th>total</th>\n",
              "      <th>percent</th>\n",
              "    </tr>\n",
              "  </thead>\n",
              "  <tbody>\n",
              "    <tr>\n",
              "      <th>Pool QC</th>\n",
              "      <td>object</td>\n",
              "      <td>2917</td>\n",
              "      <td>99.6</td>\n",
              "    </tr>\n",
              "    <tr>\n",
              "      <th>Misc Feature</th>\n",
              "      <td>object</td>\n",
              "      <td>2824</td>\n",
              "      <td>96.4</td>\n",
              "    </tr>\n",
              "    <tr>\n",
              "      <th>Alley</th>\n",
              "      <td>object</td>\n",
              "      <td>2732</td>\n",
              "      <td>93.2</td>\n",
              "    </tr>\n",
              "    <tr>\n",
              "      <th>Fence</th>\n",
              "      <td>object</td>\n",
              "      <td>2358</td>\n",
              "      <td>80.5</td>\n",
              "    </tr>\n",
              "    <tr>\n",
              "      <th>Fireplace Qu</th>\n",
              "      <td>object</td>\n",
              "      <td>1422</td>\n",
              "      <td>48.5</td>\n",
              "    </tr>\n",
              "    <tr>\n",
              "      <th>Lot Frontage</th>\n",
              "      <td>float64</td>\n",
              "      <td>490</td>\n",
              "      <td>16.7</td>\n",
              "    </tr>\n",
              "    <tr>\n",
              "      <th>Garage Cond</th>\n",
              "      <td>object</td>\n",
              "      <td>159</td>\n",
              "      <td>5.4</td>\n",
              "    </tr>\n",
              "    <tr>\n",
              "      <th>Garage Finish</th>\n",
              "      <td>object</td>\n",
              "      <td>159</td>\n",
              "      <td>5.4</td>\n",
              "    </tr>\n",
              "    <tr>\n",
              "      <th>Garage Yr Blt</th>\n",
              "      <td>float64</td>\n",
              "      <td>159</td>\n",
              "      <td>5.4</td>\n",
              "    </tr>\n",
              "    <tr>\n",
              "      <th>Garage Qual</th>\n",
              "      <td>object</td>\n",
              "      <td>159</td>\n",
              "      <td>5.4</td>\n",
              "    </tr>\n",
              "    <tr>\n",
              "      <th>Garage Type</th>\n",
              "      <td>object</td>\n",
              "      <td>157</td>\n",
              "      <td>5.4</td>\n",
              "    </tr>\n",
              "    <tr>\n",
              "      <th>Bsmt Exposure</th>\n",
              "      <td>object</td>\n",
              "      <td>83</td>\n",
              "      <td>2.8</td>\n",
              "    </tr>\n",
              "    <tr>\n",
              "      <th>BsmtFin Type 2</th>\n",
              "      <td>object</td>\n",
              "      <td>81</td>\n",
              "      <td>2.8</td>\n",
              "    </tr>\n",
              "    <tr>\n",
              "      <th>Bsmt Qual</th>\n",
              "      <td>object</td>\n",
              "      <td>80</td>\n",
              "      <td>2.7</td>\n",
              "    </tr>\n",
              "    <tr>\n",
              "      <th>Bsmt Cond</th>\n",
              "      <td>object</td>\n",
              "      <td>80</td>\n",
              "      <td>2.7</td>\n",
              "    </tr>\n",
              "    <tr>\n",
              "      <th>BsmtFin Type 1</th>\n",
              "      <td>object</td>\n",
              "      <td>80</td>\n",
              "      <td>2.7</td>\n",
              "    </tr>\n",
              "    <tr>\n",
              "      <th>Mas Vnr Area</th>\n",
              "      <td>float64</td>\n",
              "      <td>23</td>\n",
              "      <td>0.8</td>\n",
              "    </tr>\n",
              "    <tr>\n",
              "      <th>Mas Vnr Type</th>\n",
              "      <td>object</td>\n",
              "      <td>23</td>\n",
              "      <td>0.8</td>\n",
              "    </tr>\n",
              "    <tr>\n",
              "      <th>Bsmt Full Bath</th>\n",
              "      <td>float64</td>\n",
              "      <td>2</td>\n",
              "      <td>0.1</td>\n",
              "    </tr>\n",
              "    <tr>\n",
              "      <th>Bsmt Half Bath</th>\n",
              "      <td>float64</td>\n",
              "      <td>2</td>\n",
              "      <td>0.1</td>\n",
              "    </tr>\n",
              "  </tbody>\n",
              "</table>\n",
              "</div>"
            ],
            "text/plain": [
              "                   type  total  percent\n",
              "Pool QC          object   2917     99.6\n",
              "Misc Feature     object   2824     96.4\n",
              "Alley            object   2732     93.2\n",
              "Fence            object   2358     80.5\n",
              "Fireplace Qu     object   1422     48.5\n",
              "Lot Frontage    float64    490     16.7\n",
              "Garage Cond      object    159      5.4\n",
              "Garage Finish    object    159      5.4\n",
              "Garage Yr Blt   float64    159      5.4\n",
              "Garage Qual      object    159      5.4\n",
              "Garage Type      object    157      5.4\n",
              "Bsmt Exposure    object     83      2.8\n",
              "BsmtFin Type 2   object     81      2.8\n",
              "Bsmt Qual        object     80      2.7\n",
              "Bsmt Cond        object     80      2.7\n",
              "BsmtFin Type 1   object     80      2.7\n",
              "Mas Vnr Area    float64     23      0.8\n",
              "Mas Vnr Type     object     23      0.8\n",
              "Bsmt Full Bath  float64      2      0.1\n",
              "Bsmt Half Bath  float64      2      0.1"
            ]
          },
          "execution_count": 54,
          "metadata": {},
          "output_type": "execute_result"
        }
      ],
      "source": [
        "# Number of missing values for each column:\n",
        "v_total_missing   = df.isnull().sum()\n",
        "\n",
        "# Percentage out of total elements in each column (= df.shape[0]):\n",
        "v_percent_missing = round(\n",
        "    \n",
        "    v_total_missing / df.shape[0] * 100,\n",
        "                          \n",
        "    ndigits = 1)\n",
        "\n",
        "# Type of data for each column:\n",
        "v_missing_type    = df.dtypes\n",
        "\n",
        "# Create data frame showing statistics per column:\n",
        "df_missing_data   = pd.DataFrame(\n",
        "    \n",
        "    {'type': v_missing_type,\n",
        "     'total': v_total_missing,\n",
        "     'percent': v_percent_missing})\n",
        "\n",
        "# Sort data frame by 'total' (descending order):\n",
        "df_missing_data   = df_missing_data.sort_values(by='total', ascending = False)\n",
        "\n",
        "# Show first n columns with highest number of missing data:\n",
        "df_missing_data.head(n=20)"
      ]
    },
    {
      "cell_type": "markdown",
      "metadata": {
        "id": "30dkjk_nJBQy"
      },
      "source": [
        "### Replace empty cells (NA) by other value.\n",
        "Suppose we want to apply a different strategy to number and object data."
      ]
    },
    {
      "cell_type": "code",
      "execution_count": 60,
      "metadata": {
        "colab": {
          "base_uri": "https://localhost:8080/"
        },
        "id": "ZISGsG7vpt4k",
        "outputId": "a1e4c6f1-68d4-4c2c-c68a-62e55f90e730"
      },
      "outputs": [
        {
          "name": "stdout",
          "output_type": "stream",
          "text": [
            "39 43 82 82\n"
          ]
        }
      ],
      "source": [
        "# Let's first split the data frame in two data frames:\n",
        "\n",
        "# Numbers:\n",
        "df_number = df.select_dtypes(include = \"number\")\n",
        "\n",
        "# Objects:\n",
        "df_object = df.select_dtypes(exclude = \"number\")\n",
        "\n",
        "# Show that the two data frames together contains as many columns as df:\n",
        "print(\n",
        "    df_number.shape[1],\n",
        "    df_object.shape[1],\n",
        "    df_number.shape[1] + df_object.shape[1],\n",
        "    df.shape[1])"
      ]
    },
    {
      "cell_type": "markdown",
      "metadata": {
        "id": "UzinQMKlEkIo"
      },
      "source": [
        "### Replace NA's in number data by median\n",
        "We demonstrate two different approaches. The 'replace()' function replaces a value of choice by another value of choice. Where, the function 'fillna()' assumes we want to replace NA by another value of choice."
      ]
    },
    {
      "cell_type": "code",
      "execution_count": 64,
      "metadata": {
        "colab": {
          "base_uri": "https://localhost:8080/"
        },
        "id": "MyCBW38IEzVA",
        "outputId": "2bd30690-64ce-4d04-96f0-25f32ce13eed"
      },
      "outputs": [
        {
          "name": "stdout",
          "output_type": "stream",
          "text": [
            "682 0\n"
          ]
        }
      ],
      "source": [
        "#df_number_imputed = df_number.replace(np.nan, df_number.median())\n",
        "df_number_imputed = df_number.fillna(df_number.median())\n",
        "\n",
        "# Show that imputed data no longer contains NA:\n",
        "print(\n",
        "    df_number.isna().sum().sum(),\n",
        "    df_number_imputed.isna().sum().sum())        "
      ]
    },
    {
      "cell_type": "markdown",
      "metadata": {
        "id": "6FB4rVHdFTIx"
      },
      "source": [
        "### Replace NA's in object data by \"100\""
      ]
    },
    {
      "cell_type": "code",
      "execution_count": 67,
      "metadata": {
        "colab": {
          "base_uri": "https://localhost:8080/"
        },
        "id": "8SwzJ-3nkSf4",
        "outputId": "59352760-1fd9-4db8-e707-c03054464485"
      },
      "outputs": [
        {
          "name": "stdout",
          "output_type": "stream",
          "text": [
            "13315 0\n"
          ]
        }
      ],
      "source": [
        "#df_object_imputed = df_object.replace(np.nan, \"100\")\n",
        "df_object_imputed = df_object.fillna(\"100\")\n",
        "\n",
        "# Show that imputed data no longer contains NA:\n",
        "print(\n",
        "    df_object.isna().sum().sum(),\n",
        "    df_object_imputed.isna().sum().sum())   "
      ]
    },
    {
      "cell_type": "code",
      "execution_count": 68,
      "metadata": {
        "colab": {
          "base_uri": "https://localhost:8080/"
        },
        "id": "ZhjxP0qXHKV7",
        "outputId": "917a80ef-ff43-4bd9-d300-26430b03cc2c"
      },
      "outputs": [
        {
          "name": "stdout",
          "output_type": "stream",
          "text": [
            "(2930, 82) (2930, 82)\n"
          ]
        }
      ],
      "source": [
        "# Put the two imputed data frames together again:\n",
        "df_imputed = pd.concat([df_number_imputed, df_object_imputed], axis = 1)\n",
        "\n",
        "print(\n",
        "    df_imputed.shape,\n",
        "    df.shape)"
      ]
    }
  ],
  "metadata": {
    "colab": {
      "collapsed_sections": [
        "8ydu7E_z0TIe"
      ],
      "name": "Ames - Getting Started - v1",
      "provenance": []
    },
    "kernelspec": {
      "display_name": "Python 3",
      "name": "python3"
    },
    "language_info": {
      "name": "python"
    }
  },
  "nbformat": 4,
  "nbformat_minor": 0
}
